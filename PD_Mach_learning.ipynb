{
 "cells": [
  {
   "cell_type": "markdown",
   "metadata": {},
   "source": [
    "PD modelling demonstration.\n",
    "Pascal Böhi, May 2017"
   ]
  },
  {
   "cell_type": "code",
   "execution_count": 7,
   "metadata": {
    "collapsed": false,
    "deletable": true,
    "editable": true
   },
   "outputs": [
    {
     "data": {
      "image/png": "[encoded data removed]",
      "text/plain": [
       "<matplotlib.figure.Figure at 0x1cc21198>"
      ]
     },
     "metadata": {},
     "output_type": "display_data"
    }
   ],
   "source": [
    "from IPython.core.display import display\n",
    "from IPython.core.display import HTML\n",
    "import IPython.core.display as di # Example: di.display_html('<h3>%s:</h3>' % str, raw=True)\n",
    "\n",
    "# This line will add a button to toggle visibility of code blocks, for use with the HTML export version\n",
    "#di.display_html('''<button onclick=\"jQuery('.input_area').toggle(); jQuery('.prompt').toggle();\">Toggle code</button>''', raw=True)\n",
    "\n",
    "import matplotlib\n",
    "\n",
    "import numpy as np\n",
    "import matplotlib.pyplot as plt\n",
    "def GetTargetValue(x, y): # both x, y : 0 <= x,y <= 1\n",
    "    res = (x >= 0.5) ^ (y >= 0.5)\n",
    "    res_int = 0\n",
    "    if (res):\n",
    "        res_int = 1\n",
    "    return(res_int)\n",
    "\n",
    "# plot the TargetValue function\n",
    "x_y = []; target = []\n",
    "for ix in xrange(50):\n",
    "    for iy in xrange(50):\n",
    "        x_y.append([ix/50., iy/50.]); target.append(GetTargetValue(x_y[-1][0], x_y[-1][1]))\n",
    "target = np.array(target).reshape(50,50)\n",
    "\n",
    "plt.imshow(target, interpolation='none', extent=[0,1., 0, 1.]); plt.colorbar();\n",
    "plt.show()"
   ]
  },
  {
   "cell_type": "markdown",
   "metadata": {
    "deletable": true,
    "editable": true
   },
   "source": [
    "The above example (XOR plot) constitutes some interaction pattern which is hard to learn for some machine learning methods.\n",
    "Let's see how different machine learning methods can learn this structure:\n",
    "\n",
    "1: Support Vector Machine (here - from the Scikit-Learn package)"
   ]
  },
  {
   "cell_type": "code",
   "execution_count": 8,
   "metadata": {
    "collapsed": false,
    "deletable": true,
    "editable": true
   },
   "outputs": [
    {
     "data": {
      "image/png": "[encoded data removed]",
      "text/plain": [
       "<matplotlib.figure.Figure at 0x2a2a518>"
      ]
     },
     "metadata": {},
     "output_type": "display_data"
    }
   ],
   "source": [
    "from sklearn import svm\n",
    "\n",
    "target_linear = target.reshape((1, target.shape[0]*target.shape[1])).tolist()[0]\n",
    "\n",
    "clf = svm.SVC()\n",
    "clf.fit(x_y, target_linear) \n",
    "\n",
    "pred_svm = np.array(clf.predict(x_y)).reshape(50,50)\n",
    "plt.imshow(pred_svm, interpolation = 'none', extent = [0, 1., 0, 1.]); plt.colorbar(); plt.show()"
   ]
  },
  {
   "cell_type": "markdown",
   "metadata": {
    "deletable": true,
    "editable": true
   },
   "source": [
    "As can be seen above - the SVM was able to perfectly learn the pattern offered. Support vector machines are very well suited to capture such non-linear interaction effects.\n",
    "\n",
    "I will show this aspect for further machine learning methodologies discussed in the pitch document.\n",
    "\n",
    "2: Linear models / Logit. "
   ]
  },
  {
   "cell_type": "code",
   "execution_count": 9,
   "metadata": {
    "collapsed": false,
    "deletable": true,
    "editable": true
   },
   "outputs": [
    {
     "data": {
      "image/png": "[encoded data removed]",
      "text/plain": [
       "<matplotlib.figure.Figure at 0x1d5fa390>"
      ]
     },
     "metadata": {},
     "output_type": "display_data"
    }
   ],
   "source": [
    "from sklearn.linear_model import LogisticRegression\n",
    "\n",
    "clf = LogisticRegression()\n",
    "clf.fit(x_y, target_linear) \n",
    "\n",
    "pred_logit = np.array(clf.predict(x_y)).reshape(50,50)\n",
    "plt.imshow(pred_logit, interpolation = 'none', extent = [0, 1., 0, 1.]); plt.colorbar(); plt.show()"
   ]
  },
  {
   "cell_type": "markdown",
   "metadata": {
    "deletable": true,
    "editable": true
   },
   "source": [
    "Not surprisingly - the logit-model was not able to learn anything.\n",
    "\n",
    "3: Neural Network (using Google's TensorFlow package) - FOLLOWS LATER IF DESIRED\n",
    "\n",
    "4: FF Neuroal Network from PyBrain with one intermediate layer. As will be seen - the more iterations - the better the representation. Training takes an incredible amount of time..."
   ]
  },
  {
   "cell_type": "markdown",
   "metadata": {
    "collapsed": false,
    "deletable": true,
    "editable": true
   },
   "source": [
    "from pybrain.supervised.trainers import BackpropTrainer\n",
    "from pybrain.tools.shortcuts import buildNetwork\n",
    "net = buildNetwork(2, 25, 1) # was 60 statt 20\n",
    "from pybrain.datasets import SupervisedDataSet\n",
    "ds = SupervisedDataSet(2, 1)\n",
    "\n",
    "for i in xrange(len(x_y)):\n",
    "    ds.addSample(x_y[i], target_linear[i])\n",
    "\n",
    "def train_for_epochs(epochs):\n",
    "    trainer = BackpropTrainer(net, ds, learningrate=0.005)\n",
    "    trainer.trainUntilConvergence(maxEpochs = epochs, validationProportion=0.003)\n",
    "    pred_net = []\n",
    "    for i in xrange(len(x_y)):\n",
    "        pred_net.append(net.activate(x_y[i]))\n",
    "    \n",
    "    pred_net = np.array(pred_net).reshape(50,50)\n",
    "    plt.imshow(pred_net, interpolation = 'none', extent = [0, 1., 0, 1.]); plt.colorbar(); \n",
    "\n",
    "#ax1 = plt.subplot(321)\n",
    "#train_for_epochs(5)   \n",
    "#ax2 = plt.subplot(322)\n",
    "#train_for_epochs(20)\n",
    "#ax3 = plt.subplot(323)\n",
    "#train_for_epochs(100)\n",
    "#ax4 = plt.subplot(324)\n",
    "#train_for_epochs(200)\n",
    "#ax5 = plt.subplot(325)\n",
    "#train_for_epochs(400)\n",
    "#ax6 = plt.subplot(326)\n",
    "train_for_epochs(500)\n",
    "plt.show()"
   ]
  },
  {
   "cell_type": "code",
   "execution_count": 10,
   "metadata": {
    "collapsed": false,
    "deletable": true,
    "editable": true
   },
   "outputs": [],
   "source": [
    "from pybrain.supervised.trainers import BackpropTrainer\n",
    "from pybrain.tools.shortcuts import buildNetwork\n",
    "net = buildNetwork(2, 60, 1)\n",
    "from pybrain.datasets import SupervisedDataSet\n",
    "ds = SupervisedDataSet(2, 1)\n",
    "\n",
    "for i in xrange(len(x_y)):\n",
    "    ds.addSample(x_y[i], target_linear[i])\n",
    "\n",
    "def train_for_epochs(epochs):\n",
    "    trainer = BackpropTrainer(net, ds)\n",
    "    trainer.trainUntilConvergence(maxEpochs = epochs, validationProportion=0.01)\n",
    "    pred_net = []\n",
    "    for i in xrange(len(x_y)):\n",
    "        pred_net.append(net.activate(x_y[i]))\n",
    "    \n",
    "    pred_net = np.array(pred_net).reshape(50,50)\n",
    "    plt.imshow(pred_net, interpolation = 'none', extent = [0, 1., 0, 1.]); plt.colorbar(); \n",
    "\n",
    "#ax1 = plt.subplot(321)\n",
    "train_for_epochs(5)   \n",
    "#ax2 = plt.subplot(322)\n",
    "#train_for_epochs(20)\n",
    "#ax3 = plt.subplot(323)\n",
    "#train_for_epochs(100)\n",
    "#ax4 = plt.subplot(324)\n",
    "#train_for_epochs(200)\n",
    "#ax5 = plt.subplot(325)\n",
    "#train_for_epochs(400)\n",
    "#ax6 = plt.subplot(326)\n",
    "#train_for_epochs(8000)\n",
    "#plt.show()"
   ]
  },
  {
   "cell_type": "markdown",
   "metadata": {
    "deletable": true,
    "editable": true
   },
   "source": [
    "Now using the Neural Network Classification provided by scikit learn:"
   ]
  },
  {
   "cell_type": "code",
   "execution_count": 11,
   "metadata": {
    "collapsed": false,
    "deletable": true,
    "editable": true
   },
   "outputs": [
    {
     "data": {
      "image/png": "[encoded data removed]",
      "text/plain": [
       "<matplotlib.figure.Figure at 0xb684ef0>"
      ]
     },
     "metadata": {},
     "output_type": "display_data"
    }
   ],
   "source": [
    "from sklearn.neural_network import MLPClassifier\n",
    "\n",
    "clf = MLPClassifier(solver='lbfgs', alpha=1e-5, hidden_layer_sizes=(20, 2), random_state=1)\n",
    "clf.fit(x_y, target_linear) \n",
    "\n",
    "pred_svm = np.array(clf.predict(x_y)).reshape(50,50)\n",
    "plt.imshow(pred_svm, interpolation = 'none', extent = [0, 1., 0, 1.]); plt.colorbar(); plt.show()"
   ]
  },
  {
   "cell_type": "markdown",
   "metadata": {
    "deletable": true,
    "editable": true
   },
   "source": [
    "5: Using random forests (again - perfect fit!):"
   ]
  },
  {
   "cell_type": "code",
   "execution_count": 12,
   "metadata": {
    "collapsed": false,
    "deletable": true,
    "editable": true
   },
   "outputs": [
    {
     "data": {
      "image/png": "[encoded data removed]",
      "text/plain": [
       "<matplotlib.figure.Figure at 0x1d736c50>"
      ]
     },
     "metadata": {},
     "output_type": "display_data"
    }
   ],
   "source": [
    "from sklearn.ensemble import RandomForestClassifier\n",
    "\n",
    "rfc = RandomForestClassifier(n_estimators=100, n_jobs = -1)\n",
    "rfc.fit(x_y, target_linear)\n",
    "\n",
    "pred_rfc = np.array(rfc.predict(x_y)).reshape(50,50)\n",
    "plt.imshow(pred_rfc, interpolation = 'none', extent = [0, 1., 0, 1.]); plt.colorbar(); plt.show()"
   ]
  },
  {
   "cell_type": "markdown",
   "metadata": {
    "deletable": true,
    "editable": true
   },
   "source": [
    "6: Using gradient boosting:"
   ]
  },
  {
   "cell_type": "code",
   "execution_count": 13,
   "metadata": {
    "collapsed": false,
    "deletable": true,
    "editable": true
   },
   "outputs": [
    {
     "data": {
      "image/png": "[encoded data removed]",
      "text/plain": [
       "<matplotlib.figure.Figure at 0x1e57fdd8>"
      ]
     },
     "metadata": {},
     "output_type": "display_data"
    }
   ],
   "source": [
    "from sklearn.ensemble import GradientBoostingClassifier\n",
    "gbc = GradientBoostingClassifier()\n",
    "\n",
    "gbc.fit(x_y, target_linear)\n",
    "\n",
    "pred_gbc = np.array(gbc.predict(x_y)).reshape(50,50)\n",
    "plt.imshow(pred_gbc, interpolation = 'none', extent = [0, 1., 0, 1.]); plt.colorbar(); plt.show()"
   ]
  },
  {
   "cell_type": "markdown",
   "metadata": {
    "deletable": true,
    "editable": true
   },
   "source": [
    "Unsupervised learning does not seem to be appropriate for that kind of data..."
   ]
  },
  {
   "cell_type": "markdown",
   "metadata": {
    "deletable": true,
    "editable": true
   },
   "source": [
    "Using some self-developed 2d preprocessing:"
   ]
  },
  {
   "cell_type": "code",
   "execution_count": 14,
   "metadata": {
    "collapsed": false,
    "deletable": true,
    "editable": true
   },
   "outputs": [
    {
     "ename": "IOError",
     "evalue": "[Errno 2] No such file or directory: './2d_prepro.py'",
     "output_type": "error",
     "traceback": [
      "\u001b[0;31m---------------------------------------------------------------------------\u001b[0m",
      "\u001b[0;31mIOError\u001b[0m                                   Traceback (most recent call last)",
      "\u001b[0;32m<ipython-input-14-3dda8a16071f>\u001b[0m in \u001b[0;36m<module>\u001b[0;34m()\u001b[0m\n\u001b[1;32m      5\u001b[0m \u001b[1;32mimport\u001b[0m \u001b[0mscipy\u001b[0m\u001b[1;33m.\u001b[0m\u001b[0mstats\u001b[0m\u001b[1;33m\u001b[0m\u001b[0m\n\u001b[1;32m      6\u001b[0m \u001b[1;33m\u001b[0m\u001b[0m\n\u001b[0;32m----> 7\u001b[0;31m \u001b[0mexecfile\u001b[0m\u001b[1;33m(\u001b[0m\u001b[1;34m\"./2d_prepro.py\"\u001b[0m\u001b[1;33m)\u001b[0m\u001b[1;33m\u001b[0m\u001b[0m\n\u001b[0m\u001b[1;32m      8\u001b[0m \u001b[1;33m\u001b[0m\u001b[0m\n\u001b[1;32m      9\u001b[0m \u001b[0mfeature_inputs\u001b[0m      \u001b[1;33m=\u001b[0m \u001b[1;33m{\u001b[0m\u001b[1;33m}\u001b[0m\u001b[1;33m\u001b[0m\u001b[0m\n",
      "\u001b[0;31mIOError\u001b[0m: [Errno 2] No such file or directory: './2d_prepro.py'"
     ]
    }
   ],
   "source": [
    "import pandas as pd\n",
    "import numpy as np\n",
    "import matplotlib.pyplot as plt\n",
    "import traceback\n",
    "import scipy.stats\n",
    "\n",
    "execfile(\"./2d_prepro.py\")\n",
    "\n",
    "feature_inputs      = {}\n",
    "feature_inputs['x'] = continuous_delta_prp\n",
    "feature_inputs['y'] = continuous_delta_prp\n",
    "\n",
    "df = pd.DataFrame(x_y)\n",
    "df.columns = ['x', 'y']\n",
    "\n",
    "my2dPrepro = Add2dVariables(feature_inputs, [('x', 'y')])\n",
    "my2dPrepro.fit(X = df, y = np.array(target_linear))\n",
    "df['2dinput'] = my2dPrepro.transform(X = df)\n",
    "\n",
    "\n",
    "from sklearn.linear_model import LogisticRegression\n",
    "\n",
    "lr = LogisticRegression()\n",
    "lr.fit(df, target_linear) \n",
    "\n",
    "pred_logit2d = np.array(lr.predict(df)).reshape(50,50)\n",
    "plt.imshow(pred_logit2d, interpolation = 'none', extent = [0, 1., 0, 1.]); plt.show()"
   ]
  },
  {
   "cell_type": "markdown",
   "metadata": {
    "deletable": true,
    "editable": true
   },
   "source": [
    "**The above shows how using 2d-preprocessing the logistic regression can be used to generate the XOR-pattern again!!!**\n",
    "We retain inference - but the preprocessing is not trivial! We have to discuss the details."
   ]
  },
  {
   "cell_type": "markdown",
   "metadata": {
    "deletable": true,
    "editable": true
   },
   "source": [
    "**In the following - I will use market data to simulate PD data - namely intraday Forex data with minutes resolution**"
   ]
  },
  {
   "cell_type": "markdown",
   "metadata": {
    "deletable": true,
    "editable": true
   },
   "source": [
    "We load the **CreditCard Clients Data**:"
   ]
  },
  {
   "cell_type": "code",
   "execution_count": null,
   "metadata": {
    "collapsed": false,
    "deletable": true,
    "editable": true
   },
   "outputs": [],
   "source": [
    "%pylab inline\n",
    "pylab.rcParams['figure.figsize'] = (15, 6)\n",
    "# Loading CreditCard Data\n",
    "import pandas as pd\n",
    "from pandas import Series, DataFrame\n",
    "from sklearn import preprocessing\n",
    "import numpy as np\n",
    "\n",
    "#df = pd.read_csv('/home/pascal/Dokumente/Fintegral/CreditCardClients.csv')\n",
    "df = pd.read_csv(r'c:\\users\\pascal\\Desktop\\ML\\HSBC\\CreditCardClients.csv')\n",
    "\n",
    "subplot(121)\n",
    "hist(df['LIMIT_BAL'])\n",
    "plt.ylabel('LIMIT_BAL');  \n",
    "subplot(122)\n",
    "hist(df['EDUCATION'])\n",
    "plt.ylabel('EDUCATION');  \n",
    "plt.show()\n",
    "\n",
    "subplot(121)\n",
    "hist(df['AGE'])\n",
    "plt.ylabel('AGE');  \n",
    "subplot(122)\n",
    "hist(df['default payment next month'])\n",
    "plt.ylabel('default payment next month (Target)');  \n",
    "plt.show()\n",
    "\n",
    "df['target']     = df['default payment next month']\n",
    "\n",
    "nr_train_samples = 25000\n",
    "\n",
    "df['rel_credit_usage_p1']  = df['BILL_AMT1'] / df['LIMIT_BAL']\n",
    "df['rel_credit_usage_p2']  = df['BILL_AMT2'] / df['LIMIT_BAL']\n",
    "df['rel_credit_usage_p3']  = df['BILL_AMT3'] / df['LIMIT_BAL']\n",
    "df['rel_credit_usage_p4']  = df['BILL_AMT4'] / df['LIMIT_BAL']\n",
    "df['rel_credit_usage_p5']  = df['BILL_AMT5'] / df['LIMIT_BAL']\n",
    "df['rel_credit_usage_p6']  = df['BILL_AMT6'] / df['LIMIT_BAL']\n",
    "df['sum_rel_credit_usage'] = df['rel_credit_usage_p1'] + df['rel_credit_usage_p2'] + df['rel_credit_usage_p3'] + df['rel_credit_usage_p4'] + df['rel_credit_usage_p5'] + df['rel_credit_usage_p6']\n",
    "#df_aug['max_rel_credit_usage_3'] =  APPLY ON THREE ROWS\n",
    "#df_aug['max_rel_credit_usage_6'] =  APPLY ON SIX ROWS\n",
    "df['rel_pay_amt1']   = df['PAY_AMT1']  / df['BILL_AMT1']\n",
    "df['rel_bill_pay_1'] = df['BILL_AMT2'] / df['PAY_AMT1']\n",
    "df['rel_bill_pay_2'] = df['BILL_AMT3'] / df['PAY_AMT2']\n",
    "df['rel_bill_pay_3'] = df['BILL_AMT4'] / df['PAY_AMT3']\n",
    "df['rel_bill_pay_4'] = df['BILL_AMT5'] / df['PAY_AMT4']\n",
    "\n",
    "df['rel_bill_pay_1t4'] = df['rel_bill_pay_1'] + df['rel_bill_pay_2'] + df['rel_bill_pay_3'] + df['rel_bill_pay_4']\n",
    "\n",
    "df = df.replace([np.nan, -np.inf, np.inf], -999)\n",
    "\n",
    "X                = df.copy()\n",
    "\n",
    "del X['default payment next month']\n",
    "del X['ID']\n",
    "del X['target']\n",
    "\n",
    "scaler           = preprocessing.StandardScaler().fit(X);\n",
    "X_scaled         = scaler.transform(X);\n",
    "\n",
    "X_train          = X.iloc[0:nr_train_samples]\n",
    "X_pred           = X.iloc[nr_train_samples: ]\n",
    "df_train         = df.iloc[0:nr_train_samples]\n",
    "df_pred          = df.iloc[nr_train_samples: ]\n",
    "target_train     = df['target'].iloc[0:nr_train_samples].copy()\n",
    "target_pred      = df['target'].iloc[nr_train_samples: ].copy()\n",
    "target           = df['target'].iloc[nr_train_samples: ].copy()\n",
    "\n",
    "scaler           = preprocessing.StandardScaler().fit(X_train);\n",
    "X_train_scaled   = scaler.transform(X_train);\n",
    "X_pred_scaled    = scaler.transform(X_pred);\n",
    "\n",
    "\n",
    "print(\"--- correlation with PAY_AMT2 ---\")\n",
    "print np.corrcoef(df['BILL_AMT5'], df['PAY_AMT2'])[0][1]\n",
    "print np.corrcoef(df['BILL_AMT4'], df['PAY_AMT2'])[0][1]\n",
    "print np.corrcoef(df['BILL_AMT3'], df['PAY_AMT2'])[0][1]#best\n",
    "print np.corrcoef(df['BILL_AMT2'], df['PAY_AMT2'])[0][1]\n",
    "print np.corrcoef(df['BILL_AMT1'], df['PAY_AMT2'])[0][1]\n",
    "\n",
    "print(\"--- correlation with PAY_AMT3 ---\")\n",
    "print np.corrcoef(df['BILL_AMT5'], df['PAY_AMT3'])[0][1]\n",
    "print np.corrcoef(df['BILL_AMT4'], df['PAY_AMT3'])[0][1]#best\n",
    "print np.corrcoef(df['BILL_AMT3'], df['PAY_AMT3'])[0][1]\n",
    "print np.corrcoef(df['BILL_AMT2'], df['PAY_AMT3'])[0][1]\n",
    "print np.corrcoef(df['BILL_AMT1'], df['PAY_AMT3'])[0][1]\n",
    "\n",
    "\n",
    "\n",
    "print df.columns\n",
    "\n",
    "# Code for the creation of profile plots\n",
    "def Profile(x,y,nbins,xmin,xmax):\n",
    "    df_ = DataFrame({'x' : x , 'y' : y})\n",
    "\n",
    "    binedges = xmin + ((xmax-xmin)/nbins) * np.arange(nbins+1)\n",
    "    \n",
    "    df_['bin'] = np.digitize(df_['x'],binedges)\n",
    "    df_['bin'] = df_['bin'].apply(lambda x: x if x <= nbins else nbins)\n",
    "\n",
    "    bincenters = xmin + ((xmax-xmin)/nbins)*np.arange(nbins) + ((xmax-xmin)/(2*nbins))\n",
    "    \n",
    "    ProfileFrame = DataFrame({'bincenters' : bincenters, 'N' : df_['bin'].value_counts(sort=False)},index=range(1,nbins+1))\n",
    "    \n",
    "    bins = ProfileFrame.index.values\n",
    "    \n",
    "    for bin in bins: #[1,2,3,4,5,...]\n",
    "        ProfileFrame.ix[bin,'ymean'] = df_.ix[df_['bin']==bin,'y'].mean()\n",
    "        ProfileFrame.ix[bin,'yStandDev'] = df_.ix[df_['bin']==bin,'y'].std()\n",
    "        ProfileFrame.ix[bin,'yMeanError'] = ProfileFrame.ix[bin,'yStandDev'] / np.sqrt(ProfileFrame.ix[bin,'N'])\n",
    "    \n",
    "\n",
    "    errorbar(ProfileFrame['bincenters'].values, ProfileFrame['ymean'].values, yerr=ProfileFrame['yMeanError'].values, xerr=(xmax-xmin)/(2*nbins), fmt=\".\") \n",
    "    return"
   ]
  },
  {
   "cell_type": "code",
   "execution_count": null,
   "metadata": {
    "collapsed": false,
    "deletable": true,
    "editable": true
   },
   "outputs": [],
   "source": [
    "# Here the SVM-SVC Code starts. We do NOT include GridSearchCV YET\n",
    "from sklearn import svm\n",
    "from sklearn.metrics import roc_auc_score\n",
    "from sklearn.metrics import accuracy_score\n",
    "\n",
    "clf         = svm.SVC(kernel = 'rbf', max_iter = -1, probability = True, class_weight = 'balanced', shrinking = True, cache_size = 4000) # Cache size 4 GB\n",
    "clf.fit(X_scaled, df['target'])\n",
    "\n",
    "pred_svc_is = clf.predict_proba(X_scaled)\n",
    "\n",
    "proba_1_is  = []\n",
    "for is_event in pred_svc_is:\n",
    "    proba_1_is.append(is_event[1])\n",
    "\n",
    "ax1 = subplot(211)\n",
    "hist(proba_1_is, bins = 50)\n",
    "ax1.set_title('IS Histogram of Predictions')\n",
    "plt.show()\n",
    "ax2 = subplot(212)\n",
    "Profile(proba_1_is, df['target'].values, 10, min(proba_1_is), max(proba_1_is))\n",
    "ax2.set_title('IS Profile Plot')\n",
    "plt.show()\n",
    "\n",
    "\n",
    "roc_auc = roc_auc_score(y_true = target_pred, y_score = proba_1_oos)\n",
    "#AR      = accuracy_score(y_true = df['target'].values, y_pred = proba_1_is)\n",
    "print(\"ROC_auc = %g\" % roc_auc) #, AR = %g\" % (roc_auc, AR))"
   ]
  },
  {
   "cell_type": "markdown",
   "metadata": {
    "deletable": true,
    "editable": true
   },
   "source": [
    "That looks pretty promising - but is still **In-Sample**!\n",
    "\n",
    "Let's go Out-of-Sample instead...:"
   ]
  },
  {
   "cell_type": "code",
   "execution_count": null,
   "metadata": {
    "collapsed": false,
    "deletable": true,
    "editable": true
   },
   "outputs": [],
   "source": [
    "from sklearn.metrics import roc_auc_score\n",
    "from sklearn.metrics import accuracy_score\n",
    "\n",
    "clf              = svm.SVC(kernel = 'rbf', max_iter = -1, probability = True, class_weight = 'balanced', shrinking = True, cache_size = 4000, C = 1.0)\n",
    "clf.fit(X_train_scaled, target_train)\n",
    "\n",
    "pred_svc_is     = clf.predict_proba(X_train_scaled)\n",
    "pred_svc_oos    = clf.predict_proba(X_pred_scaled ) \n",
    "\n",
    "# now the visualization...:\n",
    "proba_1_is  = []\n",
    "for is_event in pred_svc_is:\n",
    "    proba_1_is.append(is_event[1])\n",
    "\n",
    "proba_1_oos  = []\n",
    "for oos_event in pred_svc_oos:\n",
    "    proba_1_oos.append(oos_event[1])    \n",
    "    \n",
    "ax1 = subplot(211)\n",
    "hist(proba_1_is, bins = 50)\n",
    "ax1.set_title('IS Histogram of Predictions')\n",
    "plt.show()\n",
    "ax2 = subplot(212)\n",
    "Profile(proba_1_is, target_train, 10, min(proba_1_is), max(proba_1_is))\n",
    "ax2.set_title('IS Profile Plot')\n",
    "plt.show()\n",
    "\n",
    "ax1 = subplot(211)\n",
    "hist(proba_1_oos, bins = 50)\n",
    "ax1.set_title('OOS Histogram of Predictions')\n",
    "plt.show()\n",
    "ax2 = subplot(212)\n",
    "Profile(proba_1_oos, target_pred, 10, min(proba_1_oos), max(proba_1_oos))\n",
    "ax2.set_title('OOS Profile Plot')\n",
    "plt.show()\n",
    "\n",
    "roc_auc = roc_auc_score(y_true = target_pred, y_score = proba_1_oos)\n",
    "#AR      = metrics.accuracy_score(y_true = target_pred, y_score = proba_1_oos)\n",
    "print(\"ROC_auc = %g, AR = ?\" % (roc_auc))"
   ]
  },
  {
   "cell_type": "markdown",
   "metadata": {
    "deletable": true,
    "editable": true
   },
   "source": [
    "  "
   ]
  },
  {
   "cell_type": "markdown",
   "metadata": {
    "deletable": true,
    "editable": true
   },
   "source": [
    "Let's go for an optimization of the fit parameters:"
   ]
  },
  {
   "cell_type": "code",
   "execution_count": null,
   "metadata": {
    "collapsed": false,
    "deletable": true,
    "editable": true
   },
   "outputs": [],
   "source": [
    "from sklearn import svm\n",
    "from sklearn.grid_search import GridSearchCV\n",
    "from sklearn.metrics import roc_auc_score\n",
    "from sklearn.metrics import accuracy_score\n",
    "\n",
    "import warnings\n",
    "warnings.filterwarnings('ignore', message='Changing the shape of non-C contiguous array')\n",
    "\n",
    "param_grid      = dict(C=[0.1, 0.5, 1., 2.0, 4.0])\n",
    "clf             = svm.SVC(kernel = 'rbf', max_iter = -1, probability = True, class_weight = 'balanced', shrinking = True, cache_size = 1000)\n",
    "grid_search     = GridSearchCV(clf, param_grid = param_grid, verbose = 1, n_jobs = 6, scoring = 'roc_auc') # We optimize for ROC area under curve\n",
    "\n",
    "grid_search.fit(X_train_scaled, target_train)\n",
    "print(grid_search.best_estimator_)\n",
    "\n",
    "clf             = grid_search.best_estimator_\n",
    "\n",
    "pred_is     = clf.predict_proba(X_train_scaled)\n",
    "pred_oos    = clf.predict_proba(X_pred_scaled ) \n",
    "\n",
    "# now the visualization...:\n",
    "proba_1_is  = []\n",
    "for is_event in pred_is:\n",
    "    proba_1_is.append(is_event[1])\n",
    "\n",
    "proba_1_oos  = []\n",
    "for oos_event in pred_oos:\n",
    "    proba_1_oos.append(oos_event[1])    \n",
    "    \n",
    "ax1 = subplot(211)\n",
    "hist(proba_1_is, bins = 50)\n",
    "ax1.set_title('IS Histogram of Predictions')\n",
    "plt.show()\n",
    "ax2 = subplot(212)\n",
    "Profile(proba_1_is, target_train, 10, min(proba_1_is), max(proba_1_is))\n",
    "ax2.set_title('IS Profile Plot')\n",
    "plt.show()\n",
    "\n",
    "ax1 = subplot(211)\n",
    "hist(proba_1_oos, bins = 50)\n",
    "ax1.set_title('OOS Histogram of Predictions')\n",
    "plt.show()\n",
    "ax2 = subplot(212)\n",
    "Profile(proba_1_oos, target_pred, 10, min(proba_1_oos), max(proba_1_oos))\n",
    "ax2.set_title('OOS Profile Plot')\n",
    "plt.show()\n",
    "\n",
    "roc_auc = roc_auc_score(y_true = target_pred, y_score = proba_1_oos)\n",
    "#AR      = accuracy_score(y_true = target_pred, y_pred = proba_1_oos)\n",
    "print(\"ROC_auc = %g, AR = ?\" % (roc_auc))"
   ]
  },
  {
   "cell_type": "markdown",
   "metadata": {
    "deletable": true,
    "editable": true
   },
   "source": [
    "Next - let's check the same for Random forests:"
   ]
  },
  {
   "cell_type": "code",
   "execution_count": null,
   "metadata": {
    "collapsed": false,
    "deletable": true,
    "editable": true
   },
   "outputs": [],
   "source": [
    "from sklearn.ensemble import RandomForestClassifier\n",
    "from sklearn.metrics import roc_auc_score\n",
    "from sklearn.metrics import accuracy_score\n",
    "\n",
    "rfc = RandomForestClassifier(n_estimators = 1600, n_jobs = -1, class_weight = \"balanced_subsample\", max_depth = 8)\n",
    "rfc.fit(X_train_scaled, target_train)\n",
    "\n",
    "pred_svc_is     = rfc.predict_proba(X_train_scaled)\n",
    "pred_svc_oos    = rfc.predict_proba(X_pred_scaled ) \n",
    "\n",
    "# now the visualization...:\n",
    "proba_1_is  = []\n",
    "for is_event in pred_svc_is:\n",
    "    proba_1_is.append(is_event[1])\n",
    "\n",
    "proba_1_oos  = []\n",
    "for oos_event in pred_svc_oos:\n",
    "    proba_1_oos.append(oos_event[1])    \n",
    "    \n",
    "ax1 = subplot(211)\n",
    "hist(proba_1_is, bins = 50)\n",
    "ax1.set_title('IS Histogram of Predictions')\n",
    "plt.show()\n",
    "ax2 = subplot(212)\n",
    "ax2.set_ylim([-0.1, 1.1])\n",
    "Profile(proba_1_is, target_train, 10, min(proba_1_is), max(proba_1_is))\n",
    "ax2.set_title('IS Profile Plot')\n",
    "plt.show()\n",
    "\n",
    "ax1 = subplot(211)\n",
    "hist(proba_1_oos, bins = 50)\n",
    "ax1.set_title('OOS Histogram of Predictions')\n",
    "plt.show()\n",
    "ax2 = subplot(212)\n",
    "Profile(proba_1_oos, target_pred, 10, min(proba_1_oos), max(proba_1_oos))\n",
    "ax2.set_title('OOS Profile Plot')\n",
    "plt.show()\n",
    "\n",
    "roc_auc = roc_auc_score(y_true = target_pred, y_score = proba_1_oos)\n",
    "#AR      = accuracy_score(y_true = target_pred, y_pred = proba_1_oos)\n",
    "print(\"ROC_auc = %g, AR = ?\" % (roc_auc))"
   ]
  },
  {
   "cell_type": "markdown",
   "metadata": {
    "deletable": true,
    "editable": true
   },
   "source": [
    "That looks **pretty promising**!!!!\n",
    "\n",
    "Let's optimize the predictor...:"
   ]
  },
  {
   "cell_type": "code",
   "execution_count": null,
   "metadata": {
    "collapsed": false,
    "deletable": true,
    "editable": true
   },
   "outputs": [],
   "source": [
    "from sklearn.ensemble    import RandomForestClassifier\n",
    "from sklearn.grid_search import GridSearchCV\n",
    "\n",
    "param_grid      = dict(n_estimators=[100, 200, 400, 800, 1600], max_depth=[3, 4, 5, 6, 7, 8, 9])\n",
    "rfc             = RandomForestClassifier(n_jobs = -1, class_weight = \"balanced_subsample\")\n",
    "grid_search     = GridSearchCV(rfc, param_grid = param_grid, verbose = 1, n_jobs = 1, scoring = 'roc_auc') # We optimize for ROC area under curve\n",
    "\n",
    "grid_search.fit(X_train_scaled, target_train)\n",
    "print(grid_search.best_estimator_)\n",
    "\n",
    "rfc             = grid_search.best_estimator_\n",
    "\n",
    "pred_svc_is     = rfc.predict_proba(X_train_scaled)\n",
    "pred_svc_oos    = rfc.predict_proba(X_pred_scaled ) \n",
    "\n",
    "# now the visualization...:\n",
    "proba_1_is  = []\n",
    "for is_event in pred_svc_is:\n",
    "    proba_1_is.append(is_event[1])\n",
    "\n",
    "proba_1_oos  = []\n",
    "for oos_event in pred_svc_oos:\n",
    "    proba_1_oos.append(oos_event[1])    \n",
    "    \n",
    "ax1 = subplot(211)\n",
    "hist(proba_1_is, bins = 50)\n",
    "ax1.set_title('IS Histogram of Predictions')\n",
    "plt.show()\n",
    "ax2 = subplot(212)\n",
    "Profile(proba_1_is, target_train, 20, min(proba_1_is), max(proba_1_is))\n",
    "ax2.set_title('IS Profile Plot')\n",
    "plt.show()\n",
    "\n",
    "ax1 = subplot(211)\n",
    "hist(proba_1_oos, bins = 50)\n",
    "ax1.set_title('OOS Histogram of Predictions')\n",
    "plt.show()\n",
    "ax2 = subplot(212)\n",
    "Profile(proba_1_oos, target_pred, 20, min(proba_1_oos), max(proba_1_oos))\n",
    "ax2.set_title('OOS Profile Plot')\n",
    "plt.show()\n",
    "\n",
    "roc_auc = roc_auc_score(y_true = target_pred, y_score = proba_1_oos)\n",
    "#AR      = accuracy_score(y_true = target_pred, y_pred = proba_1_oos)\n",
    "print(\"ROC_auc = %g, AR = ?\" % (roc_auc))"
   ]
  },
  {
   "cell_type": "markdown",
   "metadata": {
    "deletable": true,
    "editable": true
   },
   "source": [
    "**THAT** looks pretty **GOOD!** - That's **really pretty GOOD!**\n",
    "\n",
    "Now, let's go after **Grading Boosting** - first without optimization:"
   ]
  },
  {
   "cell_type": "code",
   "execution_count": null,
   "metadata": {
    "collapsed": false,
    "deletable": true,
    "editable": true
   },
   "outputs": [],
   "source": [
    "from sklearn.ensemble import GradientBoostingClassifier\n",
    "gbc = GradientBoostingClassifier(n_estimators = 400, max_depth = 5, learning_rate = 0.01, )\n",
    "\n",
    "gbc.fit(X_train_scaled, target_train)\n",
    "\n",
    "pred_is     = gbc.predict_proba(X_train_scaled)\n",
    "pred_oos    = gbc.predict_proba(X_pred_scaled ) \n",
    "\n",
    "# now the visualization...:\n",
    "proba_1_is  = []\n",
    "for is_event in pred_is:\n",
    "    proba_1_is.append(is_event[1])\n",
    "\n",
    "proba_1_oos  = []\n",
    "for oos_event in pred_oos:\n",
    "    proba_1_oos.append(oos_event[1])    \n",
    "    \n",
    "ax1 = subplot(211)\n",
    "hist(proba_1_is, bins = 50)\n",
    "ax1.set_title('IS Histogram of Predictions')\n",
    "plt.show()\n",
    "ax2 = subplot(212)\n",
    "ax2.set_ylim([-0.1, 1.1])\n",
    "Profile(proba_1_is, target_train, 20, min(proba_1_is), max(proba_1_is))\n",
    "ax2.set_title('IS Profile Plot')\n",
    "plt.show()\n",
    "\n",
    "ax1 = subplot(211)\n",
    "hist(proba_1_oos, bins = 50)\n",
    "ax1.set_title('OOS Histogram of Predictions')\n",
    "plt.show()\n",
    "ax2 = subplot(212)\n",
    "ax2.set_ylim([-0.1, 1.1])\n",
    "Profile(proba_1_oos, target_pred, 20, min(proba_1_oos), max(proba_1_oos))\n",
    "ax2.set_title('OOS Profile Plot')\n",
    "plt.show()\n",
    "\n",
    "roc_auc = roc_auc_score(y_true = target_pred, y_score = proba_1_oos)\n",
    "#AR      = accuracy_score(y_true = target_pred, y_pred = proba_1_oos)\n",
    "print(\"ROC_auc = %g, AR = ?\" % (roc_auc))"
   ]
  },
  {
   "cell_type": "markdown",
   "metadata": {
    "deletable": true,
    "editable": true
   },
   "source": [
    "Using the Scikit-Learn Neural Network:"
   ]
  },
  {
   "cell_type": "code",
   "execution_count": null,
   "metadata": {
    "collapsed": false,
    "deletable": true,
    "editable": true
   },
   "outputs": [],
   "source": [
    "from sklearn.neural_network import MLPClassifier\n",
    "from sklearn.metrics        import roc_auc_score\n",
    "\n",
    "net = MLPClassifier(solver='lbfgs', alpha=1e-5, max_iter = 500, hidden_layer_sizes=(25, 2), random_state=1)\n",
    "\n",
    "net.fit(X_train_scaled, target_train)\n",
    "\n",
    "pred_is     = net.predict_proba(X_train_scaled)\n",
    "pred_oos    = net.predict_proba(X_pred_scaled ) \n",
    "\n",
    "# now the visualization...:\n",
    "proba_1_is  = []\n",
    "for is_event in pred_is:\n",
    "    proba_1_is.append(is_event[1])\n",
    "\n",
    "proba_1_oos  = []\n",
    "for oos_event in pred_oos:\n",
    "    proba_1_oos.append(oos_event[1])\n",
    "    \n",
    "ax1 = subplot(211)\n",
    "hist(proba_1_is, bins = 50)\n",
    "ax1.set_title('IS Histogram of Predictions')\n",
    "plt.show()\n",
    "ax2 = subplot(212)\n",
    "ax2.set_ylim([-0.1, 1.1])\n",
    "Profile(proba_1_is, target_train, 20, min(proba_1_is), max(proba_1_is))\n",
    "ax2.set_title('IS Profile Plot')\n",
    "plt.show()\n",
    "\n",
    "ax1 = subplot(211)\n",
    "hist(proba_1_oos, bins = 50)\n",
    "ax1.set_title('OOS Histogram of Predictions')\n",
    "plt.show()\n",
    "ax2 = subplot(212)\n",
    "ax2.set_ylim([-0.1, 1.1])\n",
    "Profile(proba_1_oos, target_pred, 20, min(proba_1_oos), max(proba_1_oos))\n",
    "ax2.set_title('OOS Profile Plot')\n",
    "plt.show()\n",
    "\n",
    "roc_auc = roc_auc_score(y_true = target_pred, y_score = proba_1_oos)\n",
    "#AR      = accuracy_score(y_true = target_pred, y_pred = proba_1_oos)\n",
    "print(\"ROC_auc = %g, AR = ?\" % (roc_auc))\n",
    "    "
   ]
  },
  {
   "cell_type": "markdown",
   "metadata": {
    "deletable": true,
    "editable": true
   },
   "source": [
    "That looks pretty good as well. Now again - let's optimize the parameters for the Neural Network:"
   ]
  },
  {
   "cell_type": "code",
   "execution_count": null,
   "metadata": {
    "collapsed": false,
    "deletable": true,
    "editable": true
   },
   "outputs": [],
   "source": [
    "### Classifier Neural Network optimization\n",
    "from sklearn.neural_network import MLPClassifier\n",
    "from sklearn.grid_search import GridSearchCV\n",
    "\n",
    "import warnings\n",
    "warnings.filterwarnings('ignore', message='Changing the shape of non-C contiguous array') # this is a known issue related to joblib\n",
    "\n",
    "gbc             = MLPClassifier(solver='lbfgs', alpha=1e-5, random_state=1)\n",
    "\n",
    "param_grid      = dict(max_iter = [50, 100, 170, 250, 500, 1000], hidden_layer_sizes = [(7,3), (10, 2), (14,2), (25, 2), (50, 2)], alpha = [1e-5, 1e-4, 1e-3, 1e-2, 1e-1, 10, 1000])\n",
    "grid_search     = GridSearchCV(gbc, param_grid = param_grid, verbose = 1, n_jobs = 8, scoring = 'roc_auc') # We optimize for ROC area under curve\n",
    "\n",
    "grid_search.fit(X_train_scaled, target_train)\n",
    "print(grid_search.best_estimator_)\n",
    "gbc             = grid_search.best_estimator_\n",
    "\n",
    "pred_svc_is     = gbc.predict_proba(X_train_scaled)\n",
    "pred_svc_oos    = gbc.predict_proba(X_pred_scaled ) \n",
    "\n",
    "# now the visualization...:\n",
    "proba_1_is  = []\n",
    "for is_event in pred_svc_is:\n",
    "    proba_1_is.append(is_event[1])\n",
    "\n",
    "proba_1_oos  = []\n",
    "for oos_event in pred_svc_oos:\n",
    "    proba_1_oos.append(oos_event[1])    \n",
    "    \n",
    "ax1 = subplot(211)\n",
    "hist(proba_1_is, bins = 50)\n",
    "ax1.set_title('IS Histogram of Predictions')\n",
    "plt.show()\n",
    "ax2 = subplot(212)\n",
    "ax2.set_ylim([-0.1, 1.1])\n",
    "Profile(proba_1_is, target_train, 20, min(proba_1_is), max(proba_1_is))\n",
    "ax2.set_title('IS Profile Plot')\n",
    "plt.show()\n",
    "\n",
    "ax1 = subplot(211)\n",
    "hist(proba_1_oos, bins = 50)\n",
    "ax1.set_title('OOS Histogram of Predictions')\n",
    "plt.show()\n",
    "ax2 = subplot(212)\n",
    "ax2.set_ylim([-0.1, 1.1])\n",
    "Profile(proba_1_oos, target_pred, 20, min(proba_1_oos), max(proba_1_oos))\n",
    "ax2.set_title('OOS Profile Plot')\n",
    "plt.show()\n",
    "\n",
    "roc_auc = roc_auc_score(y_true = target_pred, y_score = proba_1_oos)\n",
    "#AR      = accuracy_score(y_true = target_pred, y_pred = proba_1_oos)\n",
    "print(\"ROC_auc = %g, AR = ?\" % (roc_auc))"
   ]
  },
  {
   "cell_type": "code",
   "execution_count": null,
   "metadata": {
    "collapsed": false,
    "deletable": true,
    "editable": true
   },
   "outputs": [],
   "source": [
    "from sklearn.ensemble import GradientBoostingClassifier\n",
    "from sklearn.grid_search import GridSearchCV\n",
    "\n",
    "import warnings\n",
    "warnings.filterwarnings('ignore', message='Changing the shape of non-C contiguous array') # this is a known issue related to joblib\n",
    "\n",
    "gbc             = GradientBoostingClassifier()\n",
    "\n",
    "param_grid      = dict(learning_rate = [0.005, 0.01, 0.02, 0.05, 0.1], n_estimators = [50, 100, 200, 400, 1000], max_depth = [3, 4, 5, 6, 7])\n",
    "grid_search     = GridSearchCV(gbc, param_grid = param_grid, verbose = 1, n_jobs = 8, scoring = 'roc_auc') # We optimize for ROC area under curve\n",
    "\n",
    "grid_search.fit(X_train_scaled, target_train)\n",
    "print(grid_search.best_estimator_)\n",
    "gbc             = grid_search.best_estimator_\n",
    "\n",
    "pred_svc_is     = gbc.predict_proba(X_train_scaled)\n",
    "pred_svc_oos    = gbc.predict_proba(X_pred_scaled ) \n",
    "\n",
    "# now the visualization...:\n",
    "proba_1_is  = []\n",
    "for is_event in pred_svc_is:\n",
    "    proba_1_is.append(is_event[1])\n",
    "\n",
    "proba_1_oos  = []\n",
    "for oos_event in pred_svc_oos:\n",
    "    proba_1_oos.append(oos_event[1])    \n",
    "    \n",
    "ax1 = subplot(211)\n",
    "hist(proba_1_is, bins = 50)\n",
    "ax1.set_title('IS Histogram of Predictions')\n",
    "plt.show()\n",
    "ax2 = subplot(212)\n",
    "ax2.set_ylim([-0.1, 1.1])\n",
    "Profile(proba_1_is, target_train, 20, min(proba_1_is), max(proba_1_is))\n",
    "ax2.set_title('IS Profile Plot')\n",
    "plt.show()\n",
    "\n",
    "ax1 = subplot(211)\n",
    "hist(proba_1_oos, bins = 50)\n",
    "ax1.set_title('OOS Histogram of Predictions')\n",
    "plt.show()\n",
    "ax2 = subplot(212)\n",
    "ax2.set_ylim([-0.1, 1.1])\n",
    "Profile(proba_1_oos, target_pred, 20, min(proba_1_oos), max(proba_1_oos))\n",
    "ax2.set_title('OOS Profile Plot')\n",
    "plt.show()\n",
    "\n",
    "roc_auc = roc_auc_score(y_true = target_pred, y_score = proba_1_oos)\n",
    "#AR      = accuracy_score(y_true = target_pred, y_pred = proba_1_oos)\n",
    "print(\"ROC_auc = %g, AR = ?\" % (roc_auc))"
   ]
  },
  {
   "cell_type": "markdown",
   "metadata": {
    "deletable": true,
    "editable": true
   },
   "source": [
    "The above performance looks also **very good**!\n",
    "\n",
    "One could think of combining the GradientBoostingClassifier with the random-forest one...(!)\n",
    "\n",
    "\n",
    "Finally - **logistic regression**:"
   ]
  },
  {
   "cell_type": "code",
   "execution_count": null,
   "metadata": {
    "collapsed": false,
    "deletable": true,
    "editable": true
   },
   "outputs": [],
   "source": [
    "from sklearn.linear_model import LogisticRegression\n",
    "\n",
    "clf = LogisticRegression(class_weight = 'balanced')\n",
    "clf.fit(X_train_scaled, target_train)\n",
    "\n",
    "pred_is     = clf.predict_proba(X_train_scaled)\n",
    "pred_oos    = clf.predict_proba(X_pred_scaled ) \n",
    "\n",
    "# now the visualization...:\n",
    "proba_1_is  = []\n",
    "for is_event in pred_is:\n",
    "    proba_1_is.append(is_event[1])\n",
    "\n",
    "proba_1_oos  = []\n",
    "for oos_event in pred_oos:\n",
    "    proba_1_oos.append(oos_event[1])    \n",
    "    \n",
    "ax1 = subplot(211)\n",
    "hist(proba_1_is, bins = 50)\n",
    "ax1.set_title('IS Histogram of Predictions')\n",
    "plt.show()\n",
    "ax2 = subplot(212)\n",
    "Profile(proba_1_is, target_train, 20, min(proba_1_is), max(proba_1_is))\n",
    "ax2.set_title('IS Profile Plot')\n",
    "plt.show()\n",
    "# I don't understand that IS profile plot!!!!! ######\n",
    "\n",
    "ax1 = subplot(211)\n",
    "hist(proba_1_oos, bins = 50)\n",
    "ax1.set_title('OOS Histogram of Predictions')\n",
    "plt.show()\n",
    "ax2 = subplot(212)\n",
    "Profile(proba_1_oos, target_pred, 20, min(proba_1_oos), max(proba_1_oos))\n",
    "ax2.set_title('OOS Profile Plot')\n",
    "plt.show()\n",
    "\n",
    "roc_auc = roc_auc_score(y_true = target_pred, y_score = proba_1_oos)\n",
    "#AR      = accuracy_score(y_true = target_pred, y_pred = proba_1_oos)\n",
    "print(\"ROC_auc = %g, AR = ?\" % (roc_auc))"
   ]
  },
  {
   "cell_type": "markdown",
   "metadata": {
    "deletable": true,
    "editable": true
   },
   "source": [
    "Could look better...\n",
    "\n",
    "Again - using the optimization:"
   ]
  },
  {
   "cell_type": "code",
   "execution_count": null,
   "metadata": {
    "collapsed": false,
    "deletable": true,
    "editable": true
   },
   "outputs": [],
   "source": [
    "from sklearn.grid_search import GridSearchCV\n",
    "\n",
    "import warnings\n",
    "warnings.filterwarnings('ignore', message='Changing the shape of non-C contiguous array') # this is a known issue related to joblib\n",
    "\n",
    "clf = LogisticRegression(class_weight = 'balanced')\n",
    "\n",
    "param_grid      = dict(C = [0.1, 0.5, 1.0, 2.0, 4.0, 8.0, 16.0, 32.0, 64.0, 128.0])\n",
    "grid_search     = GridSearchCV(clf, param_grid = param_grid, verbose = 1, n_jobs = 1, scoring = 'roc_auc') # We optimize for ROC area under curve\n",
    "\n",
    "grid_search.fit(X_train_scaled, target_train)\n",
    "print(grid_search.best_estimator_)\n",
    "\n",
    "clf             = grid_search.best_estimator_\n",
    "\n",
    "pred_svc_is     = clf.predict_proba(X_train_scaled)\n",
    "pred_svc_oos    = clf.predict_proba(X_pred_scaled ) \n",
    "\n",
    "# now the visualization...:\n",
    "proba_1_is  = []\n",
    "for is_event in pred_is:\n",
    "    proba_1_is.append(is_event[1])\n",
    "\n",
    "proba_1_oos  = []\n",
    "for oos_event in pred_oos:\n",
    "    proba_1_oos.append(oos_event[1])    \n",
    "    \n",
    "ax1 = subplot(211)\n",
    "hist(proba_1_is, bins = 50)\n",
    "ax1.set_title('IS Histogram of Predictions')\n",
    "plt.show()\n",
    "ax2 = subplot(212)\n",
    "Profile(proba_1_is, target_train, 20, min(proba_1_is), max(proba_1_is))\n",
    "ax2.set_title('IS Profile Plot')\n",
    "plt.show()\n",
    "# I don't understand that IS profile plot!!!!! ######\n",
    "\n",
    "ax1 = subplot(211)\n",
    "hist(proba_1_oos, bins = 50)\n",
    "ax1.set_title('OOS Histogram of Predictions')\n",
    "plt.show()\n",
    "ax2 = subplot(212)\n",
    "Profile(proba_1_oos, target_pred, 20, min(proba_1_oos), max(proba_1_oos))\n",
    "ax2.set_title('OOS Profile Plot')\n",
    "plt.show()\n",
    "\n",
    "roc_auc = roc_auc_score(y_true = target_pred, y_score = proba_1_oos)\n",
    "#AR      = accuracy_score(y_true = target_pred, y_pred = proba_1_oos)\n",
    "print(\"ROC_auc = %g, AR = ?\" % (roc_auc))"
   ]
  },
  {
   "cell_type": "markdown",
   "metadata": {
    "deletable": true,
    "editable": true
   },
   "source": [
    "Now that we have seen the performance of **logistic regression** - let's combine that with the **2D preprocessing**:"
   ]
  },
  {
   "cell_type": "code",
   "execution_count": null,
   "metadata": {
    "collapsed": false,
    "deletable": true,
    "editable": true
   },
   "outputs": [],
   "source": [
    "from sklearn.linear_model import LogisticRegression\n",
    "import warnings\n",
    "warnings.filterwarnings('ignore')\n",
    "execfile(\"./2d_prepro.py\")\n",
    "\n",
    "feature_inputs              = {}\n",
    "feature_inputs['LIMIT_BAL'] = continuous\n",
    "feature_inputs['SEX']       = discrete\n",
    "feature_inputs['EDUCATION'] = discrete\n",
    "feature_inputs['MARRIAGE']  = discrete\n",
    "feature_inputs['AGE']       = continuous\n",
    "feature_inputs['PAY_0']     = discrete\n",
    "feature_inputs['PAY_2']     = discrete\n",
    "feature_inputs['PAY_3']     = discrete\n",
    "feature_inputs['PAY_4']     = discrete\n",
    "feature_inputs['PAY_5']     = discrete\n",
    "feature_inputs['PAY_6']     = discrete\n",
    "feature_inputs['PAY_AMT1']  = continuous\n",
    "feature_inputs['PAY_AMT2']  = continuous\n",
    "feature_inputs['PAY_AMT3']  = continuous\n",
    "\n",
    "\n",
    "my2dPrepro       = Add2dVariables(feature_inputs, [('SEX', 'EDUCATION'), ('MARRIAGE', 'EDUCATION'), ('MARRIAGE', 'AGE'), ('EDUCATION', 'AGE'), ('PAY_4', 'PAY_5'), ('PAY_5', 'PAY_6')], plot = True)\n",
    "my2dPrepro.fit(X = df_train, y = np.array(target_train))\n",
    "df_train_2d      = df_train.merge(                        my2dPrepro.transform(X = df_train), left_index = True, right_index = True)\n",
    "df_pred_2d       = df_pred.reset_index(drop = True).merge(my2dPrepro.transform(X = df_pred ), left_index = True, right_index = True)\n",
    "\n",
    "\n",
    "del df_train_2d['ID']\n",
    "del df_train_2d['target']\n",
    "del df_train_2d['default payment next month']\n",
    "del df_pred_2d['ID']\n",
    "del df_pred_2d['target']\n",
    "del df_pred_2d['default payment next month']\n",
    "\n",
    "scaler2           = preprocessing.StandardScaler().fit(df_train_2d);\n",
    "X_train_scaled2   = scaler2.transform(df_train_2d);\n",
    "X_pred_scaled2    = scaler2.transform(df_pred_2d);\n",
    "\n",
    "clf = LogisticRegression(class_weight = 'balanced')\n",
    "clf.fit(X_train_scaled2, target_train)\n",
    "\n",
    "print(clf.coef_)\n",
    "\n",
    "pred_is     = clf.predict_proba(X_train_scaled2)\n",
    "pred_oos    = clf.predict_proba(X_pred_scaled2) \n",
    "\n",
    "# now the visualization...:\n",
    "proba_1_is  = []\n",
    "for is_event in pred_is:\n",
    "    proba_1_is.append(is_event[1])\n",
    "\n",
    "proba_1_oos  = []\n",
    "for oos_event in pred_oos:\n",
    "    proba_1_oos.append(oos_event[1])    \n",
    "\n",
    "    \n",
    "# TODO: Show the underlying 2D features\n",
    "    \n",
    "ax1 = subplot(211)\n",
    "hist(proba_1_is, bins = 50)\n",
    "ax1.set_title('IS Histogram of Predictions')\n",
    "plt.show()\n",
    "ax2 = subplot(212)\n",
    "Profile(proba_1_is, target_train, 20, min(proba_1_is), max(proba_1_is))\n",
    "ax2.set_title('IS Profile Plot')\n",
    "plt.show()\n",
    "# I don't understand that IS profile plot!!!!! ######\n",
    "\n",
    "ax1 = subplot(211)\n",
    "hist(proba_1_oos, bins = 50)\n",
    "ax1.set_title('OOS Histogram of Predictions')\n",
    "plt.show()\n",
    "ax2 = subplot(212)\n",
    "Profile(proba_1_oos, target_pred, 20, min(proba_1_oos), max(proba_1_oos))\n",
    "ax2.set_title('OOS Profile Plot')\n",
    "plt.show()\n",
    "\n",
    "roc_auc = roc_auc_score(y_true = target_pred, y_score = proba_1_oos)\n",
    "#AR      = accuracy_score(y_true = target_pred, y_pred = proba_1_oos)\n",
    "print(\"ROC_auc = %g, AR = ?\" % (roc_auc))"
   ]
  },
  {
   "cell_type": "markdown",
   "metadata": {
    "deletable": true,
    "editable": true
   },
   "source": [
    "Neural Networks. As it turned out, PyBrain is by far too slow. So I do that task using Google's  again using PyBrain:"
   ]
  },
  {
   "cell_type": "code",
   "execution_count": null,
   "metadata": {
    "collapsed": false,
    "deletable": true,
    "editable": true
   },
   "outputs": [],
   "source": [
    "import time\n",
    "from pybrain.supervised.trainers import BackpropTrainer\n",
    "from pybrain.tools.shortcuts     import buildNetwork\n",
    "from pybrain.datasets            import SupervisedDataSet\n",
    "\n",
    "net = buildNetwork(23, 100, 1)\n",
    "ds  = SupervisedDataSet(23, 1)\n",
    "\n",
    "for i in xrange(len(X_train)):\n",
    "    ds.addSample(X_train.iloc[i], target_train[i])\n",
    "\n",
    "def train_for_epochs_is_oos(epochs):\n",
    "    start = time.time()\n",
    "    trainer = BackpropTrainer(net, ds)\n",
    "    trainer.trainUntilConvergence(maxEpochs = epochs, validationProportion=0.01)\n",
    "    stop  = time.time()\n",
    "    print(\"It took %g seconds to train for epochs = %ld\" % (stop - start, epochs))\n",
    "    pred_net_is  = []\n",
    "    pred_net_oos = []\n",
    "    for i in xrange(len(X_train)):\n",
    "        pred_net_is.append(net.activate(X_train.iloc[i])[0])\n",
    "        \n",
    "    for i in xrange(len(X_pred)):\n",
    "        pred_net_oos.append(net.activate(X_pred.iloc[i])[0])\n",
    "        \n",
    "    ax1 = subplot(211)\n",
    "    hist(pred_net_is, bins = 50)\n",
    "    ax1.set_title('IS Histogram of Predictions, epochs = %ld' % epochs)\n",
    "    \n",
    "    ax2 = subplot(212)\n",
    "    Profile(pred_net_is, target_train, 10, min(pred_net_is), max(pred_net_is))\n",
    "    ax2.set_title('IS Profile Plot, epochs = %ld' % epochs)\n",
    "    plt.show()\n",
    "    \n",
    "    ax1 = subplot(211)\n",
    "    hist(pred_net_oos, bins = 50)\n",
    "    ax1.set_title('OOS Histogram of Predictions, epochs = %ld' % epochs)\n",
    "    \n",
    "    ax2 = subplot(212)\n",
    "    Profile(pred_net_oos, target_pred, 10, min(pred_net_oos), max(pred_net_oos))\n",
    "    ax2.set_title('OOS Profile Plot, epochs = %ld' % epochs)\n",
    "    plt.show()\n",
    "\n",
    "#train_for_epochs_is_oos(5)  \n",
    "train_for_epochs_is_oos(2 )\n",
    "train_for_epochs_is_oos(10)\n",
    "train_for_epochs_is_oos(200)  # fitting is expected to last an hour\n",
    "train_for_epochs_is_oos(1700) # fitting is expected to last eight hours  "
   ]
  },
  {
   "cell_type": "markdown",
   "metadata": {
    "deletable": true,
    "editable": true
   },
   "source": [
    "**TODO**\n",
    "\n",
    "deep learning\n",
    "\n",
    "neural network\n",
    "\n",
    "Dieser berühmte ROC Plot\n",
    "\n",
    "slides -> slides Kazim"
   ]
  }
 ],
 "metadata": {
  "kernelspec": {
   "display_name": "Python 2",
   "language": "python",
   "name": "python2"
  },
  "language_info": {
   "codemirror_mode": {
    "name": "ipython",
    "version": 2
   },
   "file_extension": ".py",
   "mimetype": "text/x-python",
   "name": "python",
   "nbconvert_exporter": "python",
   "pygments_lexer": "ipython2",
   "version": "2.7.13"
  }
 },
 "nbformat": 4,
 "nbformat_minor": 0
}
