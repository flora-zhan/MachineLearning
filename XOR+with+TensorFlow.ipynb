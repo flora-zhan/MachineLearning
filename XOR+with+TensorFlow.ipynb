{
 "cells": [
  {
   "cell_type": "code",
   "execution_count": 2,
   "metadata": {
    "collapsed": true
   },
   "outputs": [],
   "source": [
    "import warnings\n",
    "warnings.filterwarnings(\"ignore\")\n",
    "\n",
    "%matplotlib inline\n",
    "import matplotlib\n",
    "import matplotlib.pyplot as plt\n",
    "from matplotlib import pyplot as plt\n",
    "\n",
    "import numpy as np\n",
    "import pandas as pd\n",
    "from pandas import DataFrame\n",
    "\n",
    "import tensorflow as tf"
   ]
  },
  {
   "cell_type": "markdown",
   "metadata": {},
   "source": [
    "Start with the simple network: a neural network is trained to use input to predict output"
   ]
  },
  {
   "cell_type": "code",
   "execution_count": 6,
   "metadata": {},
   "outputs": [
    {
     "data": {
      "text/html": [
       "<div>\n",
       "<style>\n",
       "    .dataframe thead tr:only-child th {\n",
       "        text-align: right;\n",
       "    }\n",
       "\n",
       "    .dataframe thead th {\n",
       "        text-align: left;\n",
       "    }\n",
       "\n",
       "    .dataframe tbody tr th {\n",
       "        vertical-align: top;\n",
       "    }\n",
       "</style>\n",
       "<table border=\"1\" class=\"dataframe\">\n",
       "  <thead>\n",
       "    <tr style=\"text-align: right;\">\n",
       "      <th></th>\n",
       "      <th>Input x</th>\n",
       "      <th>Input y</th>\n",
       "      <th>Target Value</th>\n",
       "    </tr>\n",
       "  </thead>\n",
       "  <tbody>\n",
       "    <tr>\n",
       "      <th>0</th>\n",
       "      <td>0</td>\n",
       "      <td>0</td>\n",
       "      <td>0</td>\n",
       "    </tr>\n",
       "    <tr>\n",
       "      <th>1</th>\n",
       "      <td>0</td>\n",
       "      <td>1</td>\n",
       "      <td>1</td>\n",
       "    </tr>\n",
       "    <tr>\n",
       "      <th>2</th>\n",
       "      <td>1</td>\n",
       "      <td>0</td>\n",
       "      <td>1</td>\n",
       "    </tr>\n",
       "    <tr>\n",
       "      <th>3</th>\n",
       "      <td>1</td>\n",
       "      <td>1</td>\n",
       "      <td>0</td>\n",
       "    </tr>\n",
       "  </tbody>\n",
       "</table>\n",
       "</div>"
      ],
      "text/plain": [
       "   Input x  Input y  Target Value\n",
       "0        0        0             0\n",
       "1        0        1             1\n",
       "2        1        0             1\n",
       "3        1        1             0"
      ]
     },
     "execution_count": 6,
     "metadata": {},
     "output_type": "execute_result"
    }
   ],
   "source": [
    "import pandas as pd\n",
    "from pandas import DataFrame\n",
    "\n",
    "data1 = {'Input x':[0 , 0 , 1 , 1 ],\n",
    "       'Input y':[0 , 1 , 0 , 1 ], 'Target Value':[ 0 ,  1 ,  1 ,  0 ] }\n",
    "df1 = pd.DataFrame(data1, columns=['Input x','Input y', 'Target Value'])\n",
    "\n",
    "df1"
   ]
  },
  {
   "cell_type": "code",
   "execution_count": null,
   "metadata": {
    "collapsed": true
   },
   "outputs": [],
   "source": [
    "d = {'Input x' : [0 , 0 , 1 , 1 ],\n",
    "     'Input y' : [0 , 1 , 0 , 1 ]}\n",
    "\n",
    "df = pd.DataFrame(d)\n",
    "\n",
    "df.plot(style=['o','rx'])\n"
   ]
  },
  {
   "cell_type": "code",
   "execution_count": 103,
   "metadata": {},
   "outputs": [
    {
     "data": {
      "image/png": "[encoded data removed]",
      "text/plain": [
       "<matplotlib.figure.Figure at 0x12655f860>"
      ]
     },
     "metadata": {},
     "output_type": "display_data"
    }
   ],
   "source": [
    "plt.plot(*zip(*x), marker='o', color='r', ls='')\n",
    "plt.show()\n",
    "\n",
    "plt.plot([0,0,1,1],[0,1,0,1],'ro')\n",
    "plt.show()"
   ]
  },
  {
   "cell_type": "markdown",
   "metadata": {},
   "source": [
    "How to draw neural network diagram in python:\n",
    "<br>\n",
    "http://www.astroml.org/book_figures/appendix/fig_neural_network.html#"
   ]
  },
  {
   "cell_type": "code",
   "execution_count": 78,
   "metadata": {
    "scrolled": true
   },
   "outputs": [
    {
     "data": {
      "image/png": "[encoded data removed]",
      "text/plain": [
       "<matplotlib.figure.Figure at 0x1149040b8>"
      ]
     },
     "metadata": {},
     "output_type": "display_data"
    }
   ],
   "source": [
    "from matplotlib import pyplot as plt\n",
    "\n",
    "fig = plt.figure(facecolor='w')\n",
    "ax = fig.add_axes([0, 0, 1, 1],\n",
    "                  xticks=[], yticks=[])\n",
    "plt.box(False)\n",
    "circ = plt.Circle((1, 1), 2)\n",
    "\n",
    "radius = 0.3\n",
    "\n",
    "arrow_kwargs = dict(head_width=0.05, fc='black')\n",
    "\n",
    "\n",
    "# function to draw arrows\n",
    "def draw_connecting_arrow(ax, circ1, rad1, circ2, rad2):\n",
    "    theta = np.arctan2(circ2[1] - circ1[1],\n",
    "                       circ2[0] - circ1[0])\n",
    "\n",
    "    starting_point = (circ1[0] + rad1 * np.cos(theta),\n",
    "                      circ1[1] + rad1 * np.sin(theta))\n",
    "\n",
    "    length = (circ2[0] - circ1[0] - (rad1 + 1.4 * rad2) * np.cos(theta),\n",
    "              circ2[1] - circ1[1] - (rad1 + 1.4 * rad2) * np.sin(theta))\n",
    "\n",
    "    ax.arrow(starting_point[0], starting_point[1],\n",
    "             length[0], length[1], **arrow_kwargs)\n",
    "\n",
    "\n",
    "# function to draw circles\n",
    "def draw_circle(ax, center, radius):\n",
    "    circ = plt.Circle(center, radius, fc='none', lw=2)\n",
    "    ax.add_patch(circ)\n",
    "\n",
    "x1 = -2\n",
    "x2 = 0\n",
    "x3 = 2\n",
    "y3 = 0\n",
    "\n",
    "#------------------------------------------------------------\n",
    "# draw circles\n",
    "for i, y1 in enumerate(np.linspace(1.5, -1.5, 2)):\n",
    "    draw_circle(ax, (x1, y1), radius)\n",
    "    ax.text(x1 - 0.9, y1, 'Input %i' % (i + 1),\n",
    "            ha='right', va='center', fontsize=16)\n",
    "    draw_connecting_arrow(ax, (x1 - 0.9, y1), 0.1, (x1, y1), radius)\n",
    "\n",
    "for y2 in np.linspace(-2, 2, 5):\n",
    "    draw_circle(ax, (x2, y2), radius)\n",
    "\n",
    "draw_circle(ax, (x3, y3), radius)\n",
    "ax.text(x3 + 0.8, y3, 'Output', ha='left', va='center', fontsize=16)\n",
    "draw_connecting_arrow(ax, (x3, y3), radius, (x3 + 0.8, y3), 0.1)\n",
    "\n",
    "#------------------------------------------------------------\n",
    "# draw connecting arrows\n",
    "for y1 in np.linspace(-1.5, 1.5, 2):\n",
    "    for y2 in np.linspace(-2, 2, 5):\n",
    "        draw_connecting_arrow(ax, (x1, y1), radius, (x2, y2), radius)\n",
    "\n",
    "for y2 in np.linspace(-2, 2, 5):\n",
    "    draw_connecting_arrow(ax, (x2, y2), radius, (x3, y3), radius)\n",
    "\n",
    "#------------------------------------------------------------\n",
    "# Add text labels\n",
    "plt.text(x1, 2.7, \"Input\\nLayer\", ha='center', va='top', fontsize=14)\n",
    "plt.text(x2, 2.7, \"Hidden Layer\", ha='center', va='top', fontsize=14)\n",
    "plt.text(x3, 2.7, \"Output\\nLayer\", ha='center', va='top', fontsize=14)\n",
    "\n",
    "ax.set_aspect('equal')\n",
    "plt.xlim(-4, 4)\n",
    "plt.ylim(-3, 3)\n",
    "plt.show()"
   ]
  },
  {
   "cell_type": "markdown",
   "metadata": {},
   "source": [
    "To see the flow of the training process, click on the following link:\n",
    "<br>\n",
    "http://www.mind.ilstu.edu/curriculum/artificial_neural_net/xor_problem_and_solution.php"
   ]
  },
  {
   "cell_type": "markdown",
   "metadata": {},
   "source": [
    "Activation Functions:\n",
    "\n",
    "1) linear $y = x$ \n",
    "<br>\n",
    "2) Sigmoid(logistic) $y = \\frac{1}{1+e^{-x}}$ \n",
    "<br>\n",
    "3) Hyperbolic tangent $y = \\frac{1-e^{-2x}}{1+e^{2x}}$ \n",
    "<br>\n",
    "4) ReLU Function:\n",
    "\n",
    "\n",
    "\n",
    ",where x is the input to a neuron.\n",
    "\n",
    "Sigmoind units for bernoulli output distributions (since XOR gives binary output), there are two ways:\n",
    "\n",
    "1) Forward propagation:\n",
    "<br>\n",
    "- The input layer contains two neurons which is given by the X matrix, calculating the forward propagation by multipling:\n",
    "$$Z_1 = X*w_1 + b1$$\n",
    "$$\\text{Output_H} = \\sigma(Z_1)$$\n",
    "$$Z_2 = X*w_2 + b2$$\n",
    "$$\\text{Output_O} = \\sigma(Z_2)$$\n",
    "\n",
    "where $\\sigma()$ is the activation function.\n",
    "\n",
    "- To test the accuracy the network's outputThe error function:\n",
    "<br>\n",
    "error = Output_o - y\n",
    "\n"
   ]
  },
  {
   "cell_type": "markdown",
   "metadata": {},
   "source": [
    "2)Back propagation with Sigmoid function :\n",
    "\n",
    "- First we create the network with random weights and random biases\n",
    "- Activate two input nodes and run network forward\n",
    "- Find the error between the predict output and actual output\n",
    "- Pass the error back to hidden layer, change the biases and weights\n",
    "- The cycle repeats with new inputs and outputs\n",
    "\n",
    "The network training stops until the average error approaches 0.\n",
    "\n",
    "Take the Sigmoid function as example:\n",
    "<br>\n",
    "$$\\sigma(x) = \\frac{1}{1+e^{-x}}$$\n",
    "<br>\n",
    "Derivative of sigmoid function $$\\sigma^{'}(z) = \\sigma(z)(1-\\sigma(z))$$\n",
    "\n",
    "To compute the deltas of the weights and biases:\n",
    "$$\\delta(Z_2) = \\delta(x)\\cdot \\sigma^{'}(Z_2)$$"
   ]
  },
  {
   "cell_type": "markdown",
   "metadata": {},
   "source": [
    "# 1) Linear model\n",
    "I expected that the linear model will return output about 0.5, which is not good for training: "
   ]
  },
  {
   "cell_type": "code",
   "execution_count": 3,
   "metadata": {},
   "outputs": [
    {
     "name": "stdout",
     "output_type": "stream",
     "text": [
      "Fix 10000 epochs, increase hidden layers:\n",
      "n_hidden = 1: \n",
      "[[ nan]\n",
      " [ nan]\n",
      " [ nan]\n",
      " [ nan]]\n",
      "n_hidden = 2: \n",
      "[[ nan]\n",
      " [ nan]\n",
      " [ nan]\n",
      " [ nan]]\n",
      "n_hidden = 3: \n",
      "[[ nan]\n",
      " [ nan]\n",
      " [ nan]\n",
      " [ nan]]\n",
      "n_hidden = 4: \n",
      "[[ nan]\n",
      " [ nan]\n",
      " [ nan]\n",
      " [ nan]]\n",
      "n_hidden = 5: \n",
      "[[ nan]\n",
      " [ nan]\n",
      " [ nan]\n",
      " [ nan]]\n",
      "------------------------------------\n",
      "Fix 5 hidden layers, increase epochs\n",
      "epochs = 1000 \n",
      "[[ nan]\n",
      " [ nan]\n",
      " [ nan]\n",
      " [ nan]]\n",
      "epochs = 10000\n",
      "[[ nan]\n",
      " [ nan]\n",
      " [ nan]\n",
      " [ nan]]\n",
      "epochs = 100000\n",
      "[[ nan]\n",
      " [ nan]\n",
      " [ nan]\n",
      " [ nan]]\n",
      "epochs = 1000000\n",
      "[[ nan]\n",
      " [ nan]\n",
      " [ nan]\n",
      " [ nan]]\n"
     ]
    }
   ],
   "source": [
    "def linear(x,deriv=False):\n",
    "    if(deriv==True):\n",
    "        return 2         #derivative of Sigmoid function\n",
    "    return 2*x\n",
    "\n",
    "epochs = 1000000\n",
    "n_input,n_hidden,n_output = 2,5,1\n",
    "    \n",
    "x = np.array([[0,0],[0,1],[1,0],[1,1]])\n",
    "y = np.array([[0],[1],[1],[0]])\n",
    "\n",
    "\n",
    "def BackPropagation(n_input, n_hidden, n_output, epochs):\n",
    "    \n",
    "    weight_h = np.random.uniform(size=(n_input,n_hidden))\n",
    "    weight_o = np.random.uniform(size=(n_hidden, n_output))\n",
    "    \n",
    "    for i in range(epochs):\n",
    "        Hidden = linear(np.dot(x,weight_h))\n",
    "        Output = linear(np.dot(Hidden,weight_o))\n",
    "        error = y - Output\n",
    "        \n",
    "        delta_o = error * linear(Output,deriv = True)\n",
    "        delta_h = np.dot(delta_o, weight_o.T) * linear(Hidden, deriv = True)\n",
    "        \n",
    "        weight_h += np.dot(x.T, delta_h)\n",
    "        weight_o += np.dot(Hidden.T, delta_o)\n",
    "    return Output\n",
    "\n",
    "print(\"Fix 10000 epochs, increase hidden layers:\")\n",
    "print(\"n_hidden = 1: \")\n",
    "print(BackPropagation(2,1,1,10000))\n",
    "print(\"n_hidden = 2: \")\n",
    "print(BackPropagation(2,2,1,10000))\n",
    "print(\"n_hidden = 3: \")\n",
    "print(BackPropagation(2,3,1,10000))\n",
    "print(\"n_hidden = 4: \")\n",
    "print(BackPropagation(2,4,1,10000))\n",
    "print(\"n_hidden = 5: \")\n",
    "print(BackPropagation(2,5,1,10000))\n",
    "\n",
    "\n",
    "print(\"------------------------------------\")\n",
    "print(\"Fix 5 hidden layers, increase epochs\")\n",
    "print(\"epochs = 1000 \")\n",
    "print(BackPropagation(2,5,1,1000))\n",
    "print(\"epochs = 10000\")\n",
    "print(BackPropagation(2,5,1,10000))\n",
    "print(\"epochs = 100000\")\n",
    "print(BackPropagation(2,5,1,100000))\n",
    "print(\"epochs = 1000000\")\n",
    "print(BackPropagation(2,5,1,1000000))"
   ]
  },
  {
   "cell_type": "markdown",
   "metadata": {},
   "source": [
    "I got non after I re-run the code. First time I got like : The linear model simply outputs 0.5 everywhere, so a linear model is not able to represent the XOR function."
   ]
  },
  {
   "cell_type": "markdown",
   "metadata": {},
   "source": [
    "--------------------------------------------------------------------------"
   ]
  },
  {
   "cell_type": "markdown",
   "metadata": {},
   "source": [
    "# 2) Non-linear activation function:\n",
    "<br>\n",
    "Use logistic function as benchmark"
   ]
  },
  {
   "cell_type": "code",
   "execution_count": 6,
   "metadata": {},
   "outputs": [
    {
     "name": "stdout",
     "output_type": "stream",
     "text": [
      "Fix 10000 epochs, increase hidden layers:\n",
      "n_hidden = \n",
      "[[ 0.53756821]\n",
      " [ 0.57443952]\n",
      " [ 0.57443862]\n",
      " [ 0.57471358]]\n",
      "n_hidden = 2: \n",
      "[[ 0.03274452]\n",
      " [ 0.93086249]\n",
      " [ 0.9308625 ]\n",
      " [ 0.09219216]]\n",
      "n_hidden = 3: \n",
      "[[ 0.03209401]\n",
      " [ 0.98041367]\n",
      " [ 0.98041702]\n",
      " [ 0.00665369]]\n",
      "n_hidden = 4: \n",
      "[[ 0.02446928]\n",
      " [ 0.98185474]\n",
      " [ 0.98130731]\n",
      " [ 0.01371072]]\n",
      "n_hidden = 5: \n",
      "[[ 0.02470448]\n",
      " [ 0.98307642]\n",
      " [ 0.98308463]\n",
      " [ 0.00877622]]\n",
      "------------------------------------\n",
      "Fix 5 hidden layers, increase epochs\n",
      "epochs = 1000 \n",
      "[[ 0.09892881]\n",
      " [ 0.92183156]\n",
      " [ 0.91518065]\n",
      " [ 0.06968598]]\n",
      "epochs = 10000\n",
      "[[ 0.01899429]\n",
      " [ 0.98422286]\n",
      " [ 0.98273518]\n",
      " [ 0.0146243 ]]\n",
      "epochs = 100000\n",
      "[[ 0.00499525]\n",
      " [ 0.99529417]\n",
      " [ 0.99589157]\n",
      " [ 0.00443998]]\n",
      "epochs = 1000000\n",
      "[[ 0.00124755]\n",
      " [ 0.99852061]\n",
      " [ 0.99865851]\n",
      " [ 0.00138998]]\n"
     ]
    }
   ],
   "source": [
    "def Sigmoid(x,deriv=False):\n",
    "    if(deriv==True):\n",
    "        return x*(1-x)         #derivative of Sigmoid function\n",
    "    return 1/(1 + np.exp(-x))\n",
    "\n",
    "epochs = 1000000\n",
    "\n",
    "#here is just one layer with n number of neurons\n",
    "n_input,n_hidden,n_output = 2,5,1\n",
    "    \n",
    "X = np.array([[0,0],[0,1.0],[1.0,0],[1,1.0]], dtype=float)\n",
    "Y = np.array([[0],[1.0],[1.0],[0]], dtype=float)\n",
    "\n",
    "Output = 0\n",
    "\n",
    "def BackProp_Sigmoid(n_input, n_hidden, n_output, epochs):\n",
    "    \n",
    "    weight_h = np.random.uniform(size=(n_input,n_hidden))\n",
    "    weight_o = np.random.uniform(size=(n_hidden, n_output))\n",
    "    \n",
    "    for i in range(epochs):\n",
    "        \n",
    "        global Output\n",
    "        Hidden = Sigmoid(np.dot(X,weight_h))\n",
    "        Output = Sigmoid(np.dot(Hidden,weight_o))\n",
    "        error = Y - Output\n",
    "        \n",
    "        delta_o = error * Sigmoid(Output,deriv = True)\n",
    "        delta_h = np.dot(delta_o, weight_o.T) * Sigmoid(Hidden, deriv = True)\n",
    "        \n",
    "        weight_h += np.dot(X.T, delta_h)\n",
    "        weight_o += np.dot(Hidden.T, delta_o)\n",
    "        \n",
    "    return Output\n",
    "\n",
    "print(\"Fix 10000 epochs, increase hidden layers:\")\n",
    "print(\"n_hidden = \")\n",
    "print(BackProp_Sigmoid(2,1,1,10000))\n",
    "print(\"n_hidden = 2: \")\n",
    "print(BackProp_Sigmoid(2,2,1,10000))\n",
    "print(\"n_hidden = 3: \")\n",
    "print(BackProp_Sigmoid(2,3,1,10000))\n",
    "print(\"n_hidden = 4: \")\n",
    "print(BackProp_Sigmoid(2,4,1,10000))\n",
    "print(\"n_hidden = 5: \")\n",
    "print(BackProp_Sigmoid(2,5,1,10000))\n",
    "\n",
    "\n",
    "print(\"------------------------------------\")\n",
    "print(\"Fix 5 hidden layers, increase epochs\")\n",
    "print(\"epochs = 1000 \")\n",
    "print(BackProp_Sigmoid(2,5,1,1000))\n",
    "print(\"epochs = 10000\")\n",
    "print(BackProp_Sigmoid(2,5,1,10000))\n",
    "print(\"epochs = 100000\")\n",
    "print(BackProp_Sigmoid(2,5,1,100000))\n",
    "print(\"epochs = 1000000\")\n",
    "print(BackProp_Sigmoid(2,5,1,1000000))\n"
   ]
  },
  {
   "cell_type": "markdown",
   "metadata": {},
   "source": [
    "Here we use one hidden layer but multiple neurons within that hidden layer.\n",
    "<br>\n",
    "With the sigmoid function as activation function, we can see the results are improving when:\n",
    "- Increase the number of hidden neurons while fix the number of epochs\n",
    "- Increase the number of epochs while fix the number of hidden neurons\n",
    "    "
   ]
  },
  {
   "cell_type": "markdown",
   "metadata": {},
   "source": [
    "I wanted to plot the graph show the spread of the prediction points, so I got the following graph (not exactly what I want but it shows the movement somehow). "
   ]
  },
  {
   "cell_type": "code",
   "execution_count": 101,
   "metadata": {},
   "outputs": [
    {
     "data": {
      "image/png": "[encoded data removed]",
      "text/plain": [
       "<matplotlib.figure.Figure at 0x123192be0>"
      ]
     },
     "metadata": {},
     "output_type": "display_data"
    }
   ],
   "source": [
    "from mpl_toolkits.mplot3d import Axes3D\n",
    "\n",
    "Sigmoid_Total = []\n",
    "X = np.array([[0,0],[0,1],[1,0],[1,1]])\n",
    "xx_S, yy_S = X.T\n",
    "xx_total = []\n",
    "yy_total = []\n",
    "\n",
    "for i in range(100):\n",
    "    \n",
    "    Sigmoid_Total.append(BackProp_Sigmoid(2,5,1,i))\n",
    "    xx_total.append(xx_S)\n",
    "    yy_total.append(yy_S)\n",
    "    \n",
    "fig = plt.figure()\n",
    "ax = fig.add_subplot(111, projection='3d')\n",
    "#image = plt.imshow(Sigmoid_Total, interpolation='none')\n",
    "                       #extent = [0, 1.0, 0, 1.0])\n",
    "                       #aspect='auto', origin='lower', cmap=plt.cm.PuOr_r)\n",
    "\n",
    "ax.scatter(xx_total, yy_total, Sigmoid_Total, c='r', marker='o')\n",
    "ax.set_xlabel('input 1')\n",
    "ax.set_ylabel('input 2')\n",
    "ax.set_zlabel('pred')\n",
    "      \n",
    "#plt.scatter(xx_total, yy_total, Sigmoid_Total)\n",
    "#plt.colorbar()\n",
    "plt.show() "
   ]
  },
  {
   "cell_type": "code",
   "execution_count": 5,
   "metadata": {},
   "outputs": [
    {
     "ename": "ValueError",
     "evalue": "Unknown projection '3d'",
     "output_type": "error",
     "traceback": [
      "\u001b[0;31m---------------------------------------------------------------------------\u001b[0m",
      "\u001b[0;31mKeyError\u001b[0m                                  Traceback (most recent call last)",
      "\u001b[0;32m//anaconda/envs/tensorflow/lib/python3.6/site-packages/matplotlib/projections/__init__.py\u001b[0m in \u001b[0;36mget_projection_class\u001b[0;34m(projection)\u001b[0m\n\u001b[1;32m     64\u001b[0m     \u001b[0;32mtry\u001b[0m\u001b[0;34m:\u001b[0m\u001b[0;34m\u001b[0m\u001b[0m\n\u001b[0;32m---> 65\u001b[0;31m         \u001b[0;32mreturn\u001b[0m \u001b[0mprojection_registry\u001b[0m\u001b[0;34m.\u001b[0m\u001b[0mget_projection_class\u001b[0m\u001b[0;34m(\u001b[0m\u001b[0mprojection\u001b[0m\u001b[0;34m)\u001b[0m\u001b[0;34m\u001b[0m\u001b[0m\n\u001b[0m\u001b[1;32m     66\u001b[0m     \u001b[0;32mexcept\u001b[0m \u001b[0mKeyError\u001b[0m\u001b[0;34m:\u001b[0m\u001b[0;34m\u001b[0m\u001b[0m\n",
      "\u001b[0;32m//anaconda/envs/tensorflow/lib/python3.6/site-packages/matplotlib/projections/__init__.py\u001b[0m in \u001b[0;36mget_projection_class\u001b[0;34m(self, name)\u001b[0m\n\u001b[1;32m     28\u001b[0m         \"\"\"\n\u001b[0;32m---> 29\u001b[0;31m         \u001b[0;32mreturn\u001b[0m \u001b[0mself\u001b[0m\u001b[0;34m.\u001b[0m\u001b[0m_all_projection_types\u001b[0m\u001b[0;34m[\u001b[0m\u001b[0mname\u001b[0m\u001b[0;34m]\u001b[0m\u001b[0;34m\u001b[0m\u001b[0m\n\u001b[0m\u001b[1;32m     30\u001b[0m \u001b[0;34m\u001b[0m\u001b[0m\n",
      "\u001b[0;31mKeyError\u001b[0m: '3d'",
      "\nDuring handling of the above exception, another exception occurred:\n",
      "\u001b[0;31mValueError\u001b[0m                                Traceback (most recent call last)",
      "\u001b[0;32m<ipython-input-5-025bac2f52e1>\u001b[0m in \u001b[0;36m<module>\u001b[0;34m()\u001b[0m\n\u001b[1;32m     42\u001b[0m \u001b[0;34m\u001b[0m\u001b[0m\n\u001b[1;32m     43\u001b[0m \u001b[0mfig\u001b[0m \u001b[0;34m=\u001b[0m \u001b[0mplt\u001b[0m\u001b[0;34m.\u001b[0m\u001b[0mfigure\u001b[0m\u001b[0;34m(\u001b[0m\u001b[0;34m)\u001b[0m\u001b[0;34m\u001b[0m\u001b[0m\n\u001b[0;32m---> 44\u001b[0;31m \u001b[0max\u001b[0m \u001b[0;34m=\u001b[0m \u001b[0mfig\u001b[0m\u001b[0;34m.\u001b[0m\u001b[0madd_subplot\u001b[0m\u001b[0;34m(\u001b[0m\u001b[0;36m111\u001b[0m\u001b[0;34m,\u001b[0m \u001b[0mprojection\u001b[0m\u001b[0;34m=\u001b[0m\u001b[0;34m'3d'\u001b[0m\u001b[0;34m)\u001b[0m\u001b[0;34m\u001b[0m\u001b[0m\n\u001b[0m\u001b[1;32m     45\u001b[0m \u001b[0;31m#image = plt.imshow(Sigmoid_Total, interpolation='none')\u001b[0m\u001b[0;34m\u001b[0m\u001b[0;34m\u001b[0m\u001b[0m\n\u001b[1;32m     46\u001b[0m                        \u001b[0;31m#extent = [0, 1.0, 0, 1.0])\u001b[0m\u001b[0;34m\u001b[0m\u001b[0;34m\u001b[0m\u001b[0m\n",
      "\u001b[0;32m//anaconda/envs/tensorflow/lib/python3.6/site-packages/matplotlib/figure.py\u001b[0m in \u001b[0;36madd_subplot\u001b[0;34m(self, *args, **kwargs)\u001b[0m\n\u001b[1;32m   1001\u001b[0m         \u001b[0;32melse\u001b[0m\u001b[0;34m:\u001b[0m\u001b[0;34m\u001b[0m\u001b[0m\n\u001b[1;32m   1002\u001b[0m             projection_class, kwargs, key = process_projection_requirements(\n\u001b[0;32m-> 1003\u001b[0;31m                 self, *args, **kwargs)\n\u001b[0m\u001b[1;32m   1004\u001b[0m \u001b[0;34m\u001b[0m\u001b[0m\n\u001b[1;32m   1005\u001b[0m             \u001b[0;31m# try to find the axes with this key in the stack\u001b[0m\u001b[0;34m\u001b[0m\u001b[0;34m\u001b[0m\u001b[0m\n",
      "\u001b[0;32m//anaconda/envs/tensorflow/lib/python3.6/site-packages/matplotlib/projections/__init__.py\u001b[0m in \u001b[0;36mprocess_projection_requirements\u001b[0;34m(figure, *args, **kwargs)\u001b[0m\n\u001b[1;32m     96\u001b[0m \u001b[0;34m\u001b[0m\u001b[0m\n\u001b[1;32m     97\u001b[0m     \u001b[0;32mif\u001b[0m \u001b[0misinstance\u001b[0m\u001b[0;34m(\u001b[0m\u001b[0mprojection\u001b[0m\u001b[0;34m,\u001b[0m \u001b[0msix\u001b[0m\u001b[0;34m.\u001b[0m\u001b[0mstring_types\u001b[0m\u001b[0;34m)\u001b[0m \u001b[0;32mor\u001b[0m \u001b[0mprojection\u001b[0m \u001b[0;32mis\u001b[0m \u001b[0;32mNone\u001b[0m\u001b[0;34m:\u001b[0m\u001b[0;34m\u001b[0m\u001b[0m\n\u001b[0;32m---> 98\u001b[0;31m         \u001b[0mprojection_class\u001b[0m \u001b[0;34m=\u001b[0m \u001b[0mget_projection_class\u001b[0m\u001b[0;34m(\u001b[0m\u001b[0mprojection\u001b[0m\u001b[0;34m)\u001b[0m\u001b[0;34m\u001b[0m\u001b[0m\n\u001b[0m\u001b[1;32m     99\u001b[0m     \u001b[0;32melif\u001b[0m \u001b[0mhasattr\u001b[0m\u001b[0;34m(\u001b[0m\u001b[0mprojection\u001b[0m\u001b[0;34m,\u001b[0m \u001b[0;34m'_as_mpl_axes'\u001b[0m\u001b[0;34m)\u001b[0m\u001b[0;34m:\u001b[0m\u001b[0;34m\u001b[0m\u001b[0m\n\u001b[1;32m    100\u001b[0m         \u001b[0mprojection_class\u001b[0m\u001b[0;34m,\u001b[0m \u001b[0mextra_kwargs\u001b[0m \u001b[0;34m=\u001b[0m \u001b[0mprojection\u001b[0m\u001b[0;34m.\u001b[0m\u001b[0m_as_mpl_axes\u001b[0m\u001b[0;34m(\u001b[0m\u001b[0;34m)\u001b[0m\u001b[0;34m\u001b[0m\u001b[0m\n",
      "\u001b[0;32m//anaconda/envs/tensorflow/lib/python3.6/site-packages/matplotlib/projections/__init__.py\u001b[0m in \u001b[0;36mget_projection_class\u001b[0;34m(projection)\u001b[0m\n\u001b[1;32m     65\u001b[0m         \u001b[0;32mreturn\u001b[0m \u001b[0mprojection_registry\u001b[0m\u001b[0;34m.\u001b[0m\u001b[0mget_projection_class\u001b[0m\u001b[0;34m(\u001b[0m\u001b[0mprojection\u001b[0m\u001b[0;34m)\u001b[0m\u001b[0;34m\u001b[0m\u001b[0m\n\u001b[1;32m     66\u001b[0m     \u001b[0;32mexcept\u001b[0m \u001b[0mKeyError\u001b[0m\u001b[0;34m:\u001b[0m\u001b[0;34m\u001b[0m\u001b[0m\n\u001b[0;32m---> 67\u001b[0;31m         \u001b[0;32mraise\u001b[0m \u001b[0mValueError\u001b[0m\u001b[0;34m(\u001b[0m\u001b[0;34m\"Unknown projection '%s'\"\u001b[0m \u001b[0;34m%\u001b[0m \u001b[0mprojection\u001b[0m\u001b[0;34m)\u001b[0m\u001b[0;34m\u001b[0m\u001b[0m\n\u001b[0m\u001b[1;32m     68\u001b[0m \u001b[0;34m\u001b[0m\u001b[0m\n\u001b[1;32m     69\u001b[0m \u001b[0;34m\u001b[0m\u001b[0m\n",
      "\u001b[0;31mValueError\u001b[0m: Unknown projection '3d'"
     ]
    },
    {
     "data": {
      "text/plain": [
       "<matplotlib.figure.Figure at 0x11991a588>"
      ]
     },
     "metadata": {},
     "output_type": "display_data"
    }
   ],
   "source": [
    "#from mpl_toolkits.mplot3d import Axes3D\n",
    "\n",
    "Sigmoid_Total1 = []\n",
    "Sigmoid_Total2 = []\n",
    "Sigmoid_Total3 = []\n",
    "Sigmoid_Total4 = []\n",
    "Sigmoid_Total5 = []\n",
    "X = np.array([[0,0],[0,1],[1,0],[1,1]])\n",
    "xx_S, yy_S = X.T\n",
    "xx_total = []\n",
    "yy_total = []\n",
    "\n",
    "for j in range(1000):\n",
    "    \n",
    "    Sigmoid_Total1.append(BackProp_Sigmoid(2,5,1,j))\n",
    "    xx_total.append(xx_S)\n",
    "    yy_total.append(yy_S)\n",
    "\n",
    "for k in range(1000, 5000):\n",
    "    \n",
    "    Sigmoid_Total2.append(BackProp_Sigmoid(2,5,1,k))\n",
    "    xx_total.append(xx_S)\n",
    "    yy_total.append(yy_S)\n",
    "\n",
    "for l in range(5000,10000):\n",
    "    \n",
    "    Sigmoid_Total3.append(BackProp_Sigmoid(2,5,1,l))\n",
    "    xx_total.append(xx_S)\n",
    "    yy_total.append(yy_S)\n",
    "    \n",
    "for m in range(10000, 15000):\n",
    "    \n",
    "    Sigmoid_Total4.append(BackProp_Sigmoid(2,5,1,m))\n",
    "    xx_total.append(xx_S)\n",
    "    yy_total.append(yy_S)\n",
    "    \n",
    "for n in range(15000, 20000):\n",
    "    \n",
    "    Sigmoid_Total5.append(BackProp_Sigmoid(2,5,1,n))\n",
    "    xx_total.append(xx_S)\n",
    "    yy_total.append(yy_S)\n",
    "    \n",
    "fig = plt.figure()\n",
    "ax = fig.add_subplot(111, projection='3d')\n",
    "#image = plt.imshow(Sigmoid_Total, interpolation='none')\n",
    "                       #extent = [0, 1.0, 0, 1.0])\n",
    "                       #aspect='auto', origin='lower', cmap=plt.cm.PuOr_r)\n",
    "\n",
    "ax.scatter(xx_total, yy_total, Sigmoid_Total1, c='red', marker='o')\n",
    "ax.scatter(xx_total, yy_total, Sigmoid_Total2, c='blue', marker='o')\n",
    "ax.scatter(xx_total, yy_total, Sigmoid_Total3, c='green', marker='o')\n",
    "ax.scatter(xx_total, yy_total, Sigmoid_Total4, c='purple', marker='o')\n",
    "ax.scatter(xx_total, yy_total, Sigmoid_Total5, c='black', marker='o')\n",
    "ax.set_xlabel('input 1')\n",
    "ax.set_ylabel('input 2')\n",
    "ax.set_zlabel('pred')\n",
    "      \n",
    "#plt.scatter(xx_total, yy_total, Sigmoid_Total)\n",
    "#plt.colorbar()\n",
    "plt.show() "
   ]
  },
  {
   "cell_type": "markdown",
   "metadata": {},
   "source": [
    "--------------------------------------------------------------------------"
   ]
  },
  {
   "cell_type": "markdown",
   "metadata": {},
   "source": [
    "4) ReLU(rectifier) function:\n",
    "http://mochajl.readthedocs.io/en/latest/user-guide/neuron.html\n",
    "\n",
    "$f(x) = \\max(0,x)$\n",
    "\n",
    "The pointwise derivative of ReLU is \n",
    "$ \\frac{dy}{dx} =\n",
    "  \\begin{cases}\n",
    "    1      & \\quad x > \\epsilon \\\\\n",
    "    0      & \\quad x \\leq \\epsilon \\\\\n",
    "  \\end{cases} $\n",
    "\n",
    "Specifies the minimum threshold at which the neuron will truncate. Default 0.\n",
    "\n",
    "Leaky Rectified Linear Unit. A Leaky ReLU can help fix the “dying ReLU” problem. ReLU’s can “die” if a large enough gradient changes the weights such that the neuron never activates on new data.\n",
    "\n",
    "$ \\frac{dy}{dx} =\n",
    "  \\begin{cases}\n",
    "    1      & \\quad x > 0 \\\\\n",
    "    0.01      & \\quad x \\leq 0 \\\\\n",
    "  \\end{cases} $\n",
    "\n",
    "https://stats.stackexchange.com/questions/126238/what-are-the-advantages-of-relu-over-sigmoid-function-in-deep-neural-networks\n"
   ]
  },
  {
   "cell_type": "code",
   "execution_count": 8,
   "metadata": {
    "scrolled": false
   },
   "outputs": [
    {
     "name": "stdout",
     "output_type": "stream",
     "text": [
      "Fix 10000 epochs, increase hidden layers:\n",
      "n_hidden = 1: \n",
      "[[ 0.        ]\n",
      " [ 0.99999969]\n",
      " [ 0.        ]\n",
      " [ 0.00674731]]\n",
      "n_hidden = 2: \n",
      "[[  0.00000000e+00]\n",
      " [  0.00000000e+00]\n",
      " [  9.99999978e-01]\n",
      " [  5.77364948e-04]]\n",
      "n_hidden = 3: \n",
      "[[ 0.]\n",
      " [ 0.]\n",
      " [ 0.]\n",
      " [ 0.]]\n",
      "n_hidden = 4: \n",
      "[[ 0.]\n",
      " [ 0.]\n",
      " [ 0.]\n",
      " [ 0.]]\n",
      "n_hidden = 5: \n",
      "[[ 0.]\n",
      " [ 0.]\n",
      " [ 0.]\n",
      " [ 0.]]\n",
      "------------------------------------\n",
      "Fix 5 hidden layers, increase epochs\n",
      "epochs = 1000 \n",
      "[[ 0.]\n",
      " [ 0.]\n",
      " [ 0.]\n",
      " [ 0.]]\n",
      "epochs = 10000\n",
      "[[ 0.]\n",
      " [ 0.]\n",
      " [ 0.]\n",
      " [ 0.]]\n",
      "epochs = 100000\n",
      "[[ 0.]\n",
      " [ 0.]\n",
      " [ 0.]\n",
      " [ 0.]]\n",
      "epochs = 1000000\n",
      "[[ 0.]\n",
      " [ 0.]\n",
      " [ 0.]\n",
      " [ 0.]]\n"
     ]
    }
   ],
   "source": [
    "def ReLU(x):\n",
    "    #if(deriv==True):\n",
    "        #if (x > 0):\n",
    "            #return 0\n",
    "        #if (x <=0):\n",
    "            #return 1        #derivative of ReLU function\n",
    "    return np.maximum(x, 0)\n",
    "\n",
    "def ReLU_deriv(x):\n",
    "    if np.all(x > 0):\n",
    "        x = 1\n",
    "    if np.all(x <= 0):\n",
    "        x = 0.05 \n",
    "    return x\n",
    "\n",
    "epochs = 1000000\n",
    "\n",
    "#here is just one layer with n number of neurons\n",
    "n_input,n_hidden,n_output = 2,5,1\n",
    "    \n",
    "X = np.array([[0,0],[0,1],[1,0],[1,1]])\n",
    "Y = np.array([[0],[1],[1],[0]])\n",
    "\n",
    "\n",
    "def BackProp_ReLU(n_input, n_hidden, n_output, epochs):\n",
    "    \n",
    "    weight_h = np.random.uniform(size=(n_input,n_hidden))\n",
    "    weight_o = np.random.uniform(size=(n_hidden, n_output))\n",
    "    \n",
    "    for i in range(epochs):\n",
    "        Hidden = ReLU(np.dot(X,weight_h))\n",
    "        Output = ReLU(np.dot(Hidden,weight_o))\n",
    "        error = Y - Output\n",
    "        \n",
    "        delta_o = error * ReLU_deriv(Output)\n",
    "        delta_h = np.dot(delta_o, weight_o.T) * ReLU_deriv(Hidden)\n",
    "        \n",
    "        weight_h += np.dot(X.T, delta_h)\n",
    "        weight_o += np.dot(Hidden.T, delta_o)\n",
    "    return Output\n",
    "\n",
    "print(\"Fix 10000 epochs, increase hidden layers:\")\n",
    "print(\"n_hidden = 1: \")\n",
    "print(BackProp_ReLU(2,1,1,10000))\n",
    "print(\"n_hidden = 2: \")\n",
    "print(BackProp_ReLU(2,2,1,10000))\n",
    "print(\"n_hidden = 3: \")\n",
    "print(BackProp_ReLU(2,3,1,10000))\n",
    "print(\"n_hidden = 4: \")\n",
    "print(BackProp_ReLU(2,4,1,10000))\n",
    "print(\"n_hidden = 5: \")\n",
    "print(BackProp_ReLU(2,5,1,10000))\n",
    "\n",
    "\n",
    "print(\"------------------------------------\")\n",
    "print(\"Fix 5 hidden layers, increase epochs\")\n",
    "print(\"epochs = 1000 \")\n",
    "print(BackProp_ReLU(2,5,1,1000))\n",
    "print(\"epochs = 10000\")\n",
    "print(BackProp_ReLU(2,5,1,10000))\n",
    "print(\"epochs = 100000\")\n",
    "print(BackProp_ReLU(2,5,1,100000))\n",
    "print(\"epochs = 1000000\")\n",
    "print(BackProp_ReLU(2,5,1,1000000))"
   ]
  },
  {
   "cell_type": "markdown",
   "metadata": {},
   "source": [
    "Not sure if this works correctly: \n",
    "<br>\n",
    "I expected the prediction would be improved with the ReLU activation function, for some values that we do get like 0.99999969 really closed to 1, but using ReLU function is not that stable."
   ]
  },
  {
   "cell_type": "code",
   "execution_count": 9,
   "metadata": {},
   "outputs": [
    {
     "ename": "IndentationError",
     "evalue": "unexpected indent (<ipython-input-9-5dd2a76dea4d>, line 4)",
     "output_type": "error",
     "traceback": [
      "\u001b[0;36m  File \u001b[0;32m\"<ipython-input-9-5dd2a76dea4d>\"\u001b[0;36m, line \u001b[0;32m4\u001b[0m\n\u001b[0;31m    contours = plt.contour(x_, y_, train_step, levels=[0], linewidths=2,\u001b[0m\n\u001b[0m    ^\u001b[0m\n\u001b[0;31mIndentationError\u001b[0m\u001b[0;31m:\u001b[0m unexpected indent\n"
     ]
    }
   ],
   "source": [
    "image = plt.imshow(train_step, interpolation='nearest',\n",
    "                       extent=(xx.min(), xx.max(), yy.min(), yy.max()),\n",
    "                       aspect='auto', origin='lower', cmap=plt.cm.PuOr_r)\n",
    "    contours = plt.contour(x_, y_, train_step, levels=[0], linewidths=2,\n",
    "                           linetypes='--')\n",
    "    plt.scatter(X[:, 0], X[:, 1], s=30, c=Y, cmap=plt.cm.Paired)\n",
    "    plt.xticks(())\n",
    "    plt.yticks(())\n",
    "    plt.axis([-3, 3, -3, 3])\n",
    "    plt.colorbar(image)\n",
    "    plt.title(\"%s\\n Log-Marginal-Likelihood:%.3f\"\n",
    "              % (clf.kernel_, clf.log_marginal_likelihood(clf.kernel_.theta)),\n",
    "              fontsize=12)\n",
    "\n",
    "plt.tight_layout()\n",
    "plt.show()"
   ]
  },
  {
   "cell_type": "code",
   "execution_count": 11,
   "metadata": {},
   "outputs": [
    {
     "name": "stdout",
     "output_type": "stream",
     "text": [
      "Fix 10000 epochs, increase hidden layers:\n",
      "n_hidden = i:\n",
      "[[ 0.]\n",
      " [ 0.]\n",
      " [ 0.]\n",
      " [ 0.]]\n",
      "n_hidden = i:\n",
      "[[ 0.        ]\n",
      " [ 0.57006685]\n",
      " [ 0.57006685]\n",
      " [ 0.72417388]]\n",
      "n_hidden = i:\n",
      "[[ 0.        ]\n",
      " [ 0.99976832]\n",
      " [ 0.68136196]\n",
      " [ 0.72212837]]\n",
      "n_hidden = i:\n",
      "[[ 0.        ]\n",
      " [ 0.96829282]\n",
      " [ 0.96829282]\n",
      " [ 0.79242649]]\n",
      "n_hidden = i:\n",
      "[[ 0.        ]\n",
      " [ 0.85094029]\n",
      " [ 0.85094029]\n",
      " [-0.47712629]]\n"
     ]
    }
   ],
   "source": [
    "def Hyperbolic(x,deriv=False):\n",
    "    if(deriv==True):\n",
    "        return 1 - (np.tanh(x))**2\n",
    "    return np.tanh(x)\n",
    "\n",
    "epochs = 1000000\n",
    "n_input,n_hidden,n_output = 2,5,1\n",
    "    \n",
    "X = np.array([[0,0],[0,1],[1,0],[1,1]])\n",
    "Y = np.array([[0],[1],[1],[0]])\n",
    "\n",
    "\n",
    "def BackProp_Hyperbolic(n_input, n_hidden, n_output, epochs):\n",
    "    \n",
    "    weight_h = np.random.uniform(size=(n_input,n_hidden))\n",
    "    weight_o = np.random.uniform(size=(n_hidden, n_output))\n",
    "    \n",
    "    for i in range(epochs):\n",
    "        Hidden = Hyperbolic(np.dot(X,weight_h))\n",
    "        Output = Hyperbolic(np.dot(Hidden,weight_o))\n",
    "        error = Y - Output\n",
    "        \n",
    "        delta_o = error * Hyperbolic(Output,deriv = True)\n",
    "        delta_h = np.dot(delta_o, weight_o.T) * Hyperbolic(Hidden, deriv = True)\n",
    "        \n",
    "        weight_h += np.dot(X.T, delta_h)\n",
    "        weight_o += np.dot(Hidden.T, delta_o)\n",
    "    return Output\n",
    "\n",
    "print(\"Fix 10000 epochs, increase hidden layers:\")\n",
    "\n",
    "for i in range (5):\n",
    "    print(\"n_hidden = i:\")\n",
    "    print(BackProp_Hyperbolic(2,i,1,10000))\n",
    "\n",
    "#print(\"n_hidden = 1: \")\n",
    "#print(BackProp_Hyperbolic(2,1,1,10000))\n",
    "#print(\"n_hidden = 2: \")\n",
    "#print(BackProp_Hyperbolic(2,2,1,10000))\n",
    "#print(\"n_hidden = 3: \")\n",
    "#print(BackProp_Hyperbolic(2,3,1,10000))\n",
    "#print(\"n_hidden = 4: \")\n",
    "#print(BackProp_Hyperbolic(2,4,1,10000))\n",
    "#print(\"n_hidden = 5: \")\n",
    "#print(BackProp_Hyperbolic(2,5,1,10000))\n",
    "\n",
    "\n",
    "#print(\"------------------------------------\")\n",
    "#print(\"Fix 5 hidden layers, increase epochs\")\n",
    "#print(\"epochs = 1000 \")\n",
    "#print(BackProp_Hyperbolic(2,5,1,1000))\n",
    "#print(\"epochs = 10000\")\n",
    "#print(BackProp_Hyperbolic(2,5,1,10000))\n",
    "#print(\"epochs = 100000\")\n",
    "#print(BackProp_Hyperbolic(2,5,1,100000))\n",
    "#print(\"epochs = 1000000\")\n",
    "#print(BackProp_Hyperbolic(2,5,1,1000000))"
   ]
  },
  {
   "cell_type": "markdown",
   "metadata": {},
   "source": [
    "# 2. Now doing back propagation using tensorflow"
   ]
  },
  {
   "cell_type": "markdown",
   "metadata": {},
   "source": [
    "Draw the neural network graph\n",
    "https://tgmstat.wordpress.com/2013/06/12/draw-neural-network-diagrams-graphviz/"
   ]
  },
  {
   "cell_type": "markdown",
   "metadata": {},
   "source": [
    "Here's a blog that explains the mathematical logic behind the Back Propagation:\n",
    "<br>\n",
    "http://blog.aloni.org/posts/backprop-with-tensorflow/#the-sigmoid-prime-function\n"
   ]
  },
  {
   "cell_type": "code",
   "execution_count": 50,
   "metadata": {
    "collapsed": true
   },
   "outputs": [],
   "source": [
    "import graphviz as gv\n",
    "import functools\n",
    "graph = functools.partial(gv.Graph, format='svg')\n",
    "digraph = functools.partial(gv.Digraph, format='svg')\n",
    "\n",
    "g3 = graph()\n",
    "nodes = ['x1', 'x2', ('h1', 'h2')]\n",
    "edges = [\n",
    "    ('x1', 'h1'),\n",
    "    ('x1', 'h2'),\n",
    "    (('x2', 'h1'), ('x2')),\n",
    "]"
   ]
  },
  {
   "cell_type": "markdown",
   "metadata": {},
   "source": [
    "# 1) XOR : Tensorflow train with GradientDescentOptimizar \n",
    "<br>\n",
    "First without hidden layers"
   ]
  },
  {
   "cell_type": "code",
   "execution_count": 52,
   "metadata": {
    "scrolled": false
   },
   "outputs": [
    {
     "name": "stdout",
     "output_type": "stream",
     "text": [
      "Epoch  0\n",
      "Predictions  [[ 0.69040722]\n",
      " [ 0.73108631]\n",
      " [ 0.62964129]\n",
      " [ 0.67289644]]\n",
      "Epoch  10000\n",
      "Predictions  [[ 0.50920933]\n",
      " [ 0.54280758]\n",
      " [ 0.46077222]\n",
      " [ 0.48557022]]\n",
      "Epoch  20000\n",
      "Predictions  [[ 0.50126106]\n",
      " [ 0.5970251 ]\n",
      " [ 0.4331322 ]\n",
      " [ 0.47099417]]\n",
      "Epoch  30000\n",
      "Predictions  [[ 0.42732975]\n",
      " [ 0.79496473]\n",
      " [ 0.36808169]\n",
      " [ 0.40522882]]\n",
      "Epoch  40000\n",
      "Predictions  [[ 0.32267746]\n",
      " [ 0.87817734]\n",
      " [ 0.44508058]\n",
      " [ 0.28033999]]\n",
      "Epoch  50000\n",
      "Predictions  [[ 0.11987074]\n",
      " [ 0.92562592]\n",
      " [ 0.8095054 ]\n",
      " [ 0.09536444]]\n",
      "Epoch  60000\n",
      "Predictions  [[ 0.0581262 ]\n",
      " [ 0.95616615]\n",
      " [ 0.91355574]\n",
      " [ 0.04767713]]\n",
      "Epoch  70000\n",
      "Predictions  [[ 0.03711738]\n",
      " [ 0.96992522]\n",
      " [ 0.9465456 ]\n",
      " [ 0.03090397]]\n",
      "Epoch  80000\n",
      "Predictions  [[ 0.0269828 ]\n",
      " [ 0.97734481]\n",
      " [ 0.96179658]\n",
      " [ 0.02265419]]\n",
      "Epoch  90000\n",
      "Predictions  [[ 0.02109524]\n",
      " [ 0.98191166]\n",
      " [ 0.97042805]\n",
      " [ 0.01780567]]\n"
     ]
    },
    {
     "data": {
      "image/png": "[encoded data removed]",
      "text/plain": [
       "<matplotlib.figure.Figure at 0x11f348c88>"
      ]
     },
     "metadata": {},
     "output_type": "display_data"
    }
   ],
   "source": [
    "import tensorflow as tf\n",
    "x_ = tf.placeholder(tf.float32, shape=[4,2], name=\"x-input\")\n",
    "y_ = tf.placeholder(tf.float32, shape=[4,1], name=\"y-input\")\n",
    "\n",
    "Theta1 = tf.Variable(tf.random_uniform([2,2], -1, 1), name=\"Theta1\")\n",
    "Theta2 = tf.Variable(tf.random_uniform([2,1], -1, 1), name=\"Theta2\")\n",
    "\n",
    "Bias1 = tf.Variable(tf.zeros([2]), name=\"Bias1\")\n",
    "Bias2 = tf.Variable(tf.zeros([1]), name=\"Bias2\")\n",
    "\n",
    "A2 = tf.sigmoid(tf.matmul(x_, Theta1) + Bias1)\n",
    "Hypothesis = tf.sigmoid(tf.matmul(A2, Theta2) + Bias2)\n",
    "\n",
    "cost = tf.reduce_mean(( (y_ * tf.log(Hypothesis)) + \n",
    "        ((1 - y_) * tf.log(1.0 - Hypothesis)) ) * -1)\n",
    "\n",
    "#train_step1 = tf.train.Optimizer()\n",
    "train_step = tf.train.GradientDescentOptimizer(0.01).minimize(cost)\n",
    "\n",
    "XOR_X = [[0,0],[0,1],[1,0],[1,1]]\n",
    "XOR_Y = [[0],[1],[1],[0]]\n",
    "\n",
    "with tf.Session() as sess:\n",
    "    init = tf.global_variables_initializer()\n",
    "    #sess = tf.Session()\n",
    "    sess.run(init)\n",
    "    for i in range(100000):\n",
    "        sess.run(train_step, feed_dict={x_: XOR_X, y_: XOR_Y})\n",
    "        if i % 10000 == 0:\n",
    "            print('Epoch ', i)\n",
    "            pred = sess.run(Hypothesis, feed_dict={x_: XOR_X, y_: XOR_Y})\n",
    "            print('Predictions ', pred)\n",
    "            #print('Theta1 ', sess.run(Theta1))\n",
    "            #print('Bias1 ', sess.run(Bias1))\n",
    "            #print('Theta2 ', sess.run(Theta2))\n",
    "            #print('Bias2 ', sess.run(Bias2))\n",
    "            #print('cost ', sess.run(cost, feed_dict={x_: XOR_X, y_: XOR_Y}))\n",
    "    inputdata = np.array([[0,0],[0,1],[1,0],[1,1]])\n",
    "    xx, yy = inputdata.T\n",
    "#image = plt.imshow(pred, interpolation='none',\n",
    "                       #extent = [0, 1.0, 0, 1.0])\n",
    "                       #aspect='auto', origin='lower', cmap=plt.cm.PuOr_r)\n",
    "    plt.scatter(xx, yy, c = pred)\n",
    "    plt.colorbar()\n",
    "    plt.show()        "
   ]
  },
  {
   "cell_type": "code",
   "execution_count": 57,
   "metadata": {},
   "outputs": [
    {
     "data": {
      "image/png": "[encoded data removed]",
      "text/plain": [
       "<matplotlib.figure.Figure at 0x11e8d6630>"
      ]
     },
     "metadata": {},
     "output_type": "display_data"
    }
   ],
   "source": [
    "inputdata = np.array([[0,0],[0,1],[1,0],[1,1]])\n",
    "xx, yy = inputdata.T\n",
    "image = plt.imshow(pred, interpolation='none',\n",
    "                       extent = [0, 1.0, 0, 1.0])\n",
    "                       #aspect='auto', origin='lower', cmap=plt.cm.PuOr_r)\n",
    "plt.scatter(xx, yy, c = pred)\n",
    "plt.colorbar()\n",
    "plt.show()"
   ]
  },
  {
   "cell_type": "markdown",
   "metadata": {},
   "source": [
    "Ahm... the purple bit should be vertical..."
   ]
  },
  {
   "cell_type": "markdown",
   "metadata": {},
   "source": [
    "# 2) XOR: FeedForward Neural Network now with one hidden layer, which has several hidden units in this layer"
   ]
  },
  {
   "cell_type": "code",
   "execution_count": 96,
   "metadata": {},
   "outputs": [
    {
     "name": "stdout",
     "output_type": "stream",
     "text": [
      "[[ 0.0044068]]\n",
      "[[ 0.99392939]]\n",
      "[[ 0.99407518]]\n",
      "[[ 0.00801899]]\n"
     ]
    }
   ],
   "source": [
    "import numpy as np\n",
    "import tensorflow as tf\n",
    "\n",
    "sess = tf.InteractiveSession()\n",
    "\n",
    "inputs = tf.placeholder(tf.float32, shape=[None, 2])\n",
    "outputs = tf.placeholder(tf.float32, shape=[None, 1])\n",
    "\n",
    "# [!] define the number of hidden units in the first layer\n",
    "HIDDEN_UNITS = 3 \n",
    "\n",
    "# connect 2 inputs to 3 hidden units\n",
    "# Initialize weights with random numbers, to make the network learn\n",
    "weights_1 = tf.Variable(tf.truncated_normal([2, HIDDEN_UNITS]))\n",
    "biases_1 = tf.Variable(tf.zeros([HIDDEN_UNITS]))\n",
    "\n",
    "# connect 2 inputs to every hidden unit. Add bias\n",
    "layer_1_outputs = tf.nn.sigmoid(tf.matmul(inputs, weights_1) + biases_1)\n",
    "weights_2 = tf.Variable(tf.truncated_normal([HIDDEN_UNITS, 2]))\n",
    "biases_2 = tf.Variable(tf.zeros([2]))\n",
    "\n",
    "layer_2_outputs = tf.nn.sigmoid(tf.matmul(layer_1_outputs, weights_2) + biases_2)\n",
    "\n",
    "\n",
    "weights_3 = tf.Variable(tf.truncated_normal([2, 1]))\n",
    "biases_3 = tf.Variable(tf.zeros([1]))\n",
    "\n",
    "logits = tf.nn.sigmoid(tf.matmul(layer_2_outputs, weights_3) + biases_3)\n",
    "\n",
    "# [!] The error function chosen is good for a multiclass classification taks, not for a XOR.\n",
    "error_function = 0.5 * tf.reduce_sum(tf.subtract(logits, outputs) \n",
    "                                     * tf.subtract(logits, outputs))\n",
    "\n",
    "train_step = tf.train.GradientDescentOptimizer(0.01).minimize(error_function)\n",
    "\n",
    "init = tf.global_variables_initializer()\n",
    "sess = tf.Session()\n",
    "sess.run(init)\n",
    "\n",
    "\n",
    "training_inputs = [[0.0, 0.0], [0.0, 1.0], [1.0, 0.0], [1.0, 1.0]]\n",
    "\n",
    "training_outputs = [[0.0], [1.0], [1.0], [0.0]]\n",
    "\n",
    "for i in range(1000000):\n",
    "    _, loss = sess.run([train_step, error_function],\n",
    "                       feed_dict={inputs: np.array(training_inputs),\n",
    "                                  outputs: np.array(training_outputs)})\n",
    "    #print(loss)\n",
    "\n",
    "print(sess.run(logits, feed_dict={inputs: np.array([[0.0, 0.0]])}))\n",
    "print(sess.run(logits, feed_dict={inputs: np.array([[0.0, 1.0]])}))\n",
    "print(sess.run(logits, feed_dict={inputs: np.array([[1.0, 0.0]])}))\n",
    "print(sess.run(logits, feed_dict={inputs: np.array([[1.0, 1.0]])}))\n",
    "\n"
   ]
  },
  {
   "cell_type": "markdown",
   "metadata": {},
   "source": [
    "--------------------------------------------------------------------------"
   ]
  },
  {
   "cell_type": "markdown",
   "metadata": {},
   "source": [
    "# *****Below is a graph that I found on line that really want to plot something similar for the XOR predictions I've done above. Still haven't figure out how to do it..."
   ]
  },
  {
   "cell_type": "markdown",
   "metadata": {},
   "source": [
    "This example illustrates GPC on XOR data. Compared are a stationary, isotropic kernel (RBF:Radial basis function) and a non-stationary kernel (DotProduct). "
   ]
  },
  {
   "cell_type": "code",
   "execution_count": 102,
   "metadata": {
    "scrolled": false
   },
   "outputs": [
    {
     "name": "stdout",
     "output_type": "stream",
     "text": [
      "Automatically created module for IPython interactive environment\n"
     ]
    },
    {
     "name": "stderr",
     "output_type": "stream",
     "text": [
      "//anaconda/envs/tensorflow/lib/python3.6/site-packages/sklearn/gaussian_process/gpc.py:391: RuntimeWarning: overflow encountered in exp\n",
      "  pi = 1 / (1 + np.exp(-f))\n"
     ]
    },
    {
     "data": {
      "image/png": "[encoded data removed]",
      "text/plain": [
       "<matplotlib.figure.Figure at 0x128b114a8>"
      ]
     },
     "metadata": {},
     "output_type": "display_data"
    }
   ],
   "source": [
    "print(__doc__)\n",
    "\n",
    "# Authors: Jan Hendrik Metzen <jhm@informatik.uni-bremen.de>\n",
    "#\n",
    "# License: BSD 3 clause\n",
    "\n",
    "import numpy as np\n",
    "import matplotlib.pyplot as plt\n",
    "\n",
    "from sklearn.gaussian_process import GaussianProcessClassifier\n",
    "from sklearn.gaussian_process.kernels import RBF, DotProduct\n",
    "\n",
    "\n",
    "xx, yy = np.meshgrid(np.linspace(-3, 3, 50),\n",
    "                     np.linspace(-3, 3, 50))\n",
    "rng = np.random.RandomState(0)\n",
    "X = rng.randn(200, 2)\n",
    "Y = np.logical_xor(X[:, 0] > 0, X[:, 1] > 0)\n",
    "\n",
    "# fit the model\n",
    "plt.figure(figsize=(10, 5))\n",
    "kernels = [1.0 * RBF(length_scale=1.0), 1.0 * DotProduct(sigma_0=1.0)**2]\n",
    "for i, kernel in enumerate(kernels):\n",
    "    clf = GaussianProcessClassifier(kernel=kernel, warm_start=True).fit(X, Y)\n",
    "\n",
    "    # plot the decision function for each datapoint on the grid\n",
    "    Z = clf.predict_proba(np.vstack((xx.ravel(), yy.ravel())).T)[:, 1]\n",
    "    Z = Z.reshape(xx.shape)\n",
    "\n",
    "    plt.subplot(1, 2, i + 1)\n",
    "    image = plt.imshow(Z, interpolation='nearest',\n",
    "                       extent=(xx.min(), xx.max(), yy.min(), yy.max()),\n",
    "                       aspect='auto', origin='lower', cmap=plt.cm.PuOr_r)\n",
    "    contours = plt.contour(xx, yy, Z, levels=[0], linewidths=2,\n",
    "                           linetypes='--')\n",
    "    plt.scatter(X[:, 0], X[:, 1], s=30, c=Y, cmap=plt.cm.Paired)\n",
    "    plt.xticks(())\n",
    "    plt.yticks(())\n",
    "    plt.axis([-3, 3, -3, 3])\n",
    "    plt.colorbar(image)\n",
    "    plt.title(\"%s\\n Log-Marginal-Likelihood:%.3f\"\n",
    "              % (clf.kernel_, clf.log_marginal_likelihood(clf.kernel_.theta)),\n",
    "              fontsize=12)\n",
    "\n",
    "plt.tight_layout()\n",
    "plt.show()"
   ]
  },
  {
   "cell_type": "code",
   "execution_count": 14,
   "metadata": {},
   "outputs": [
    {
     "name": "stdout",
     "output_type": "stream",
     "text": [
      "[[1.0, 0.0], [0.0, 1.0]]\n"
     ]
    }
   ],
   "source": [
    "from sklearn.preprocessing import OneHotEncoder\n",
    "import numpy as np\n",
    "\n",
    "# The most intuitive way to label a dataset \"X\"\n",
    "# (list of features, where X[i] are the features for a datapoint i)\n",
    "# is to have a flat list \"labels\" where labels[i] is the label for datapoint i.\n",
    "labels = [0, 1, 1, 1, 0, 0, 1]\n",
    "\n",
    "# The OneHotEncoder transforms those labels to something our models can\n",
    "# work with\n",
    "enc = OneHotEncoder()\n",
    "\n",
    "\n",
    "def trans_for_ohe(labels):\n",
    "    \"\"\"Transform a flat list of labels to what one hot encoder needs.\"\"\"\n",
    "    return np.array(labels).reshape(len(labels), -1)\n",
    "\n",
    "labels_r = trans_for_ohe(labels)\n",
    "# The encoder has to know how many classes there are and what their names are.\n",
    "enc.fit(labels_r)\n",
    "\n",
    "# Now you can transform\n",
    "print(enc.transform(trans_for_ohe([0, 1])).toarray().tolist())"
   ]
  },
  {
   "cell_type": "markdown",
   "metadata": {},
   "source": [
    "--------------------------------------------------------------------------"
   ]
  },
  {
   "cell_type": "markdown",
   "metadata": {
    "collapsed": true
   },
   "source": [
    "# Don't want to focus more on the XOR, prob better carry on quickly with credit card data. But To do list for XOR: \n",
    "- Try Random Forest: Use tensor forest\n",
    "- SVM with TensorFlow: currently tensorflow only support linear optimizer"
   ]
  },
  {
   "cell_type": "code",
   "execution_count": 11,
   "metadata": {
    "collapsed": true
   },
   "outputs": [],
   "source": [
    "from tensorflow.contrib import learn\n",
    "from tensorflow.contrib.linear_optimizer.python import sdca_optimizer"
   ]
  },
  {
   "cell_type": "code",
   "execution_count": 112,
   "metadata": {
    "collapsed": true
   },
   "outputs": [],
   "source": [
    "from tensorflow.contrib import tensor_forest\n",
    "\n"
   ]
  },
  {
   "cell_type": "code",
   "execution_count": 6,
   "metadata": {},
   "outputs": [
    {
     "ename": "ValueError",
     "evalue": "Only call `softmax_cross_entropy_with_logits` with named arguments (labels=..., logits=..., ...)",
     "output_type": "error",
     "traceback": [
      "\u001b[0;31m---------------------------------------------------------------------------\u001b[0m",
      "\u001b[0;31mValueError\u001b[0m                                Traceback (most recent call last)",
      "\u001b[0;32m<ipython-input-6-a5ac47001177>\u001b[0m in \u001b[0;36m<module>\u001b[0;34m()\u001b[0m\n\u001b[1;32m     18\u001b[0m \u001b[0my_input\u001b[0m \u001b[0;34m=\u001b[0m \u001b[0mtf\u001b[0m\u001b[0;34m.\u001b[0m\u001b[0mplaceholder\u001b[0m\u001b[0;34m(\u001b[0m\u001b[0mtf\u001b[0m\u001b[0;34m.\u001b[0m\u001b[0mfloat32\u001b[0m\u001b[0;34m,\u001b[0m \u001b[0;34m[\u001b[0m\u001b[0;32mNone\u001b[0m\u001b[0;34m,\u001b[0m \u001b[0;36m2\u001b[0m\u001b[0;34m]\u001b[0m\u001b[0;34m)\u001b[0m\u001b[0;34m\u001b[0m\u001b[0m\n\u001b[1;32m     19\u001b[0m \u001b[0;34m\u001b[0m\u001b[0m\n\u001b[0;32m---> 20\u001b[0;31m \u001b[0mcross_entropy\u001b[0m \u001b[0;34m=\u001b[0m \u001b[0mtf\u001b[0m\u001b[0;34m.\u001b[0m\u001b[0mnn\u001b[0m\u001b[0;34m.\u001b[0m\u001b[0msoftmax_cross_entropy_with_logits\u001b[0m\u001b[0;34m(\u001b[0m\u001b[0mlogits\u001b[0m\u001b[0;34m,\u001b[0m \u001b[0my_input\u001b[0m\u001b[0;34m)\u001b[0m\u001b[0;34m\u001b[0m\u001b[0m\n\u001b[0m\u001b[1;32m     21\u001b[0m \u001b[0mloss\u001b[0m \u001b[0;34m=\u001b[0m \u001b[0mtf\u001b[0m\u001b[0;34m.\u001b[0m\u001b[0mreduce_mean\u001b[0m\u001b[0;34m(\u001b[0m\u001b[0mcross_entropy\u001b[0m\u001b[0;34m)\u001b[0m\u001b[0;34m\u001b[0m\u001b[0m\n\u001b[1;32m     22\u001b[0m \u001b[0;34m\u001b[0m\u001b[0m\n",
      "\u001b[0;32m//anaconda/envs/tensorflow/lib/python3.6/site-packages/tensorflow/python/ops/nn_ops.py\u001b[0m in \u001b[0;36msoftmax_cross_entropy_with_logits\u001b[0;34m(_sentinel, labels, logits, dim, name)\u001b[0m\n\u001b[1;32m   1605\u001b[0m   \"\"\"\n\u001b[1;32m   1606\u001b[0m   _ensure_xent_args(\"softmax_cross_entropy_with_logits\", _sentinel,\n\u001b[0;32m-> 1607\u001b[0;31m                     labels, logits)\n\u001b[0m\u001b[1;32m   1608\u001b[0m \u001b[0;34m\u001b[0m\u001b[0m\n\u001b[1;32m   1609\u001b[0m   \u001b[0;31m# TODO(pcmurray) Raise an error when the labels do not sum to 1. Note: This\u001b[0m\u001b[0;34m\u001b[0m\u001b[0;34m\u001b[0m\u001b[0m\n",
      "\u001b[0;32m//anaconda/envs/tensorflow/lib/python3.6/site-packages/tensorflow/python/ops/nn_ops.py\u001b[0m in \u001b[0;36m_ensure_xent_args\u001b[0;34m(name, sentinel, labels, logits)\u001b[0m\n\u001b[1;32m   1560\u001b[0m   \u001b[0;32mif\u001b[0m \u001b[0msentinel\u001b[0m \u001b[0;32mis\u001b[0m \u001b[0;32mnot\u001b[0m \u001b[0;32mNone\u001b[0m\u001b[0;34m:\u001b[0m\u001b[0;34m\u001b[0m\u001b[0m\n\u001b[1;32m   1561\u001b[0m     raise ValueError(\"Only call `%s` with \"\n\u001b[0;32m-> 1562\u001b[0;31m                      \"named arguments (labels=..., logits=..., ...)\" % name)\n\u001b[0m\u001b[1;32m   1563\u001b[0m   \u001b[0;32mif\u001b[0m \u001b[0mlabels\u001b[0m \u001b[0;32mis\u001b[0m \u001b[0;32mNone\u001b[0m \u001b[0;32mor\u001b[0m \u001b[0mlogits\u001b[0m \u001b[0;32mis\u001b[0m \u001b[0;32mNone\u001b[0m\u001b[0;34m:\u001b[0m\u001b[0;34m\u001b[0m\u001b[0m\n\u001b[1;32m   1564\u001b[0m     \u001b[0;32mraise\u001b[0m \u001b[0mValueError\u001b[0m\u001b[0;34m(\u001b[0m\u001b[0;34m\"Both labels and logits must be provided.\"\u001b[0m\u001b[0;34m)\u001b[0m\u001b[0;34m\u001b[0m\u001b[0m\n",
      "\u001b[0;31mValueError\u001b[0m: Only call `softmax_cross_entropy_with_logits` with named arguments (labels=..., logits=..., ...)"
     ]
    }
   ],
   "source": [
    "import math\n",
    "import tensorflow as tf\n",
    "import numpy as np\n",
    "\n",
    "HIDDEN_NODES = 10\n",
    "\n",
    "x = tf.placeholder(tf.float32, [None, 2])\n",
    "W_hidden = tf.Variable(tf.truncated_normal([2, HIDDEN_NODES], stddev=1./math.sqrt(2)))\n",
    "b_hidden = tf.Variable(tf.zeros([HIDDEN_NODES]))\n",
    "hidden = tf.nn.relu(tf.matmul(x, W_hidden) + b_hidden)\n",
    "\n",
    "W_logits = tf.Variable(tf.truncated_normal([HIDDEN_NODES, 2], stddev=1./math.sqrt(HIDDEN_NODES)))\n",
    "b_logits = tf.Variable(tf.zeros([2]))\n",
    "logits = tf.matmul(hidden, W_logits) + b_logits\n",
    "\n",
    "y = tf.nn.softmax(logits)\n",
    "\n",
    "y_input = tf.placeholder(tf.float32, [None, 2])\n",
    "\n",
    "cross_entropy = tf.nn.softmax_cross_entropy_with_logits(logits, y_input)\n",
    "loss = tf.reduce_mean(cross_entropy)\n",
    "\n",
    "train_op = tf.train.GradientDescentOptimizer(0.2).minimize(loss)\n",
    "\n",
    "init_op = tf.initialize_all_variables()\n",
    "\n",
    "sess = tf.Session()\n",
    "sess.run(init_op)\n",
    "\n",
    "xTrain = np.array([[0, 0], [0, 1], [1, 0], [1, 1]])\n",
    "yTrain = np.array([[1, 0], [0, 1], [0, 1], [1, 0]])\n",
    "\n",
    "for i in xrange(500):\n",
    "  _, loss_val = sess.run([train_op, loss], \n",
    "                         feed_dict={x: xTrain, y_input: yTrain})\n",
    "\n",
    "  if i % 10 == 0:\n",
    "    print (\"Step:\", i, \"Current loss:\", loss_val)\n",
    "    for x_input in [[0, 0], [0, 1], [1, 0], [1, 1]]:\n",
    "      print (x_input, sess.run(y, feed_dict={x: [x_input]}))"
   ]
  },
  {
   "cell_type": "code",
   "execution_count": 71,
   "metadata": {},
   "outputs": [
    {
     "data": {
      "image/png": "[encoded data removed]",
      "text/plain": [
       "<matplotlib.figure.Figure at 0x114221780>"
      ]
     },
     "metadata": {},
     "output_type": "display_data"
    }
   ],
   "source": [
    "from matplotlib import pyplot as plt\n",
    "import numpy as np\n",
    "\n",
    "# create dummy invisible image\n",
    "# (use the colormap you want to have on the colorbar)\n",
    "img = plt.imshow(np.array([[0,1]]), cmap=\"Oranges\")\n",
    "img.set_visible(False)\n",
    "\n",
    "plt.colorbar(orientation=\"vertical\")\n",
    "\n",
    "# add any other things you want to the figure.\n",
    "plt.plot(np.random.rand(30))\n",
    "plt.show()"
   ]
  },
  {
   "cell_type": "markdown",
   "metadata": {},
   "source": [
    "Advanced plotting\n",
    "<br>\n",
    "https://python4astronomers.github.io/plotting/advanced.html"
   ]
  },
  {
   "cell_type": "markdown",
   "metadata": {},
   "source": [
    "Evaluating a Classification Model\n",
    "<br>\n",
    "http://www.ritchieng.com/machine-learning-evaluate-classification-model/"
   ]
  },
  {
   "cell_type": "markdown",
   "metadata": {},
   "source": [
    "Building Machine Learning Estimator in TensorFlow\n",
    "<br>\n",
    "http://terrytangyuan.github.io/2016/07/08/understand-and-build-tensorflow-estimator/"
   ]
  },
  {
   "cell_type": "markdown",
   "metadata": {},
   "source": [
    "XOR problem video lecture\n",
    "<br>\n",
    "https://stackskills.com/courses/deep-learning-prerequisites-logistic-regression-in-python/lectures/1541672"
   ]
  }
 ],
 "metadata": {
  "kernelspec": {
   "display_name": "Python 3",
   "language": "python",
   "name": "python3"
  },
  "language_info": {
   "codemirror_mode": {
    "name": "ipython",
    "version": 3
   },
   "file_extension": ".py",
   "mimetype": "text/x-python",
   "name": "python",
   "nbconvert_exporter": "python",
   "pygments_lexer": "ipython3",
   "version": "3.6.1"
  }
 },
 "nbformat": 4,
 "nbformat_minor": 1
}
